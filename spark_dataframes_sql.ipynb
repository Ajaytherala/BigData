{
 "cells": [
  {
   "cell_type": "code",
   "execution_count": 1,
   "id": "3d57d1cf",
   "metadata": {},
   "outputs": [],
   "source": [
    "from pyspark.sql import SparkSession\n",
    "import getpass\n",
    "username = getpass.getuser()\n",
    "spark = SparkSession.\\\n",
    "builder.\\\n",
    "config('spark.ui.port','0').\\\n",
    "config(\"spark.sql.warehouse.dir\",f\"/user/itv012676/warehouse\").\\\n",
    "enableHiveSupport().\\\n",
    "master('yarn').\\\n",
    "getOrCreate()\n"
   ]
  },
  {
   "cell_type": "code",
   "execution_count": 2,
   "id": "e81ceb2b",
   "metadata": {},
   "outputs": [],
   "source": [
    "orders_df = spark.read \\\n",
    ".format(\"csv\") \\\n",
    ".option(\"header\",\"true\") \\\n",
    ".option(\"inferSchema\",\"true\") \\\n",
    ".load(\"/public/trendytech/orders_wh/*\")"
   ]
  },
  {
   "cell_type": "code",
   "execution_count": 3,
   "id": "88544dcc",
   "metadata": {},
   "outputs": [
    {
     "name": "stdout",
     "output_type": "stream",
     "text": [
      "+--------+--------------------+-----------+---------------+\n",
      "|order_id|          order_date|customer_id|   order_status|\n",
      "+--------+--------------------+-----------+---------------+\n",
      "|       1|2013-07-25 00:00:...|      11599|         CLOSED|\n",
      "|       2|2013-07-25 00:00:...|        256|PENDING_PAYMENT|\n",
      "|       3|2013-07-25 00:00:...|      12111|       COMPLETE|\n",
      "|       4|2013-07-25 00:00:...|       8827|         CLOSED|\n",
      "|       5|2013-07-25 00:00:...|      11318|       COMPLETE|\n",
      "|       6|2013-07-25 00:00:...|       7130|       COMPLETE|\n",
      "|       7|2013-07-25 00:00:...|       4530|       COMPLETE|\n",
      "|       8|2013-07-25 00:00:...|       2911|     PROCESSING|\n",
      "|       9|2013-07-25 00:00:...|       5657|PENDING_PAYMENT|\n",
      "|      10|2013-07-25 00:00:...|       5648|PENDING_PAYMENT|\n",
      "|      11|2013-07-25 00:00:...|        918| PAYMENT_REVIEW|\n",
      "|      12|2013-07-25 00:00:...|       1837|         CLOSED|\n",
      "|      13|2013-07-25 00:00:...|       9149|PENDING_PAYMENT|\n",
      "|      14|2013-07-25 00:00:...|       9842|     PROCESSING|\n",
      "|      15|2013-07-25 00:00:...|       2568|       COMPLETE|\n",
      "|      16|2013-07-25 00:00:...|       7276|PENDING_PAYMENT|\n",
      "|      17|2013-07-25 00:00:...|       2667|       COMPLETE|\n",
      "|      18|2013-07-25 00:00:...|       1205|         CLOSED|\n",
      "|      19|2013-07-25 00:00:...|       9488|PENDING_PAYMENT|\n",
      "|      20|2013-07-25 00:00:...|       9198|     PROCESSING|\n",
      "+--------+--------------------+-----------+---------------+\n",
      "only showing top 20 rows\n",
      "\n"
     ]
    }
   ],
   "source": [
    "orders_df.show()"
   ]
  },
  {
   "cell_type": "code",
   "execution_count": 4,
   "id": "b028fdc4",
   "metadata": {},
   "outputs": [
    {
     "name": "stdout",
     "output_type": "stream",
     "text": [
      "root\n",
      " |-- order_id: integer (nullable = true)\n",
      " |-- order_date: string (nullable = true)\n",
      " |-- customer_id: integer (nullable = true)\n",
      " |-- order_status: string (nullable = true)\n",
      "\n"
     ]
    }
   ],
   "source": [
    "orders_df.printSchema()"
   ]
  },
  {
   "cell_type": "markdown",
   "id": "9435dde1",
   "metadata": {},
   "source": [
    "## Higher Level API's Demo"
   ]
  },
  {
   "cell_type": "code",
   "execution_count": 5,
   "id": "e14e18a6",
   "metadata": {},
   "outputs": [],
   "source": [
    "orders_df.createOrReplaceTempView(\"orders\")"
   ]
  },
  {
   "cell_type": "markdown",
   "id": "86edc2e6",
   "metadata": {},
   "source": [
    "### orders_df -> Data Frame\n",
    "### orders -> Spark Table"
   ]
  },
  {
   "cell_type": "markdown",
   "id": "a428b8c3",
   "metadata": {},
   "source": [
    "### 1. Top 15 customers who placed the most number of orders"
   ]
  },
  {
   "cell_type": "code",
   "execution_count": 9,
   "id": "6bda28fe",
   "metadata": {},
   "outputs": [
    {
     "name": "stdout",
     "output_type": "stream",
     "text": [
      "+-----------+-----+\n",
      "|customer_id|count|\n",
      "+-----------+-----+\n",
      "|      12431|   16|\n",
      "|       6316|   16|\n",
      "|       5897|   16|\n",
      "|        569|   16|\n",
      "|       5654|   15|\n",
      "|        221|   15|\n",
      "|      12284|   15|\n",
      "|       4320|   15|\n",
      "|       5624|   15|\n",
      "|       5283|   15|\n",
      "|       1011|   14|\n",
      "|       3708|   14|\n",
      "|       4517|   14|\n",
      "|      10591|   14|\n",
      "|       8652|   14|\n",
      "+-----------+-----+\n",
      "\n"
     ]
    }
   ],
   "source": [
    "#Using Data Frames\n",
    "result1_df = orders_df.groupBy(\"customer_id\").count().sort(\"count\",ascending = False).limit(15)\n",
    "result1_df.show()"
   ]
  },
  {
   "cell_type": "code",
   "execution_count": 8,
   "id": "9493ea85",
   "metadata": {},
   "outputs": [
    {
     "name": "stdout",
     "output_type": "stream",
     "text": [
      "+-----------+-----+\n",
      "|customer_id|count|\n",
      "+-----------+-----+\n",
      "|       5897|   16|\n",
      "|      12431|   16|\n",
      "|        569|   16|\n",
      "|       6316|   16|\n",
      "|       5283|   15|\n",
      "|       4320|   15|\n",
      "|       5624|   15|\n",
      "|        221|   15|\n",
      "|      12284|   15|\n",
      "|       5654|   15|\n",
      "|       8652|   14|\n",
      "|       3708|   14|\n",
      "|       5821|   14|\n",
      "|       5582|   14|\n",
      "|       4116|   14|\n",
      "+-----------+-----+\n",
      "\n"
     ]
    }
   ],
   "source": [
    "#Using Sparksql\n",
    "result1_sql = spark.sql(\"select customer_id,count(order_id) as count from orders group by customer_id order by count desc limit 15\")\n",
    "result1_sql.show()"
   ]
  },
  {
   "cell_type": "markdown",
   "id": "0053c560",
   "metadata": {},
   "source": [
    "### 2. Find number of orders under each category"
   ]
  },
  {
   "cell_type": "code",
   "execution_count": 11,
   "id": "0261e757",
   "metadata": {},
   "outputs": [
    {
     "name": "stdout",
     "output_type": "stream",
     "text": [
      "+---------------+-----+\n",
      "|   order_status|count|\n",
      "+---------------+-----+\n",
      "|PENDING_PAYMENT|15030|\n",
      "|       COMPLETE|22899|\n",
      "|        ON_HOLD| 3798|\n",
      "| PAYMENT_REVIEW|  729|\n",
      "|     PROCESSING| 8275|\n",
      "|         CLOSED| 7556|\n",
      "|SUSPECTED_FRAUD| 1558|\n",
      "|        PENDING| 7610|\n",
      "|       CANCELED| 1428|\n",
      "+---------------+-----+\n",
      "\n"
     ]
    }
   ],
   "source": [
    "#Using Data Frames\n",
    "result2_df = orders_df.groupBy(\"order_status\").count()\n",
    "result2_df.show()"
   ]
  },
  {
   "cell_type": "code",
   "execution_count": 13,
   "id": "f8195aaf",
   "metadata": {},
   "outputs": [
    {
     "name": "stdout",
     "output_type": "stream",
     "text": [
      "+---------------+-----+\n",
      "|   order_status|count|\n",
      "+---------------+-----+\n",
      "|PENDING_PAYMENT|15030|\n",
      "|       COMPLETE|22899|\n",
      "|        ON_HOLD| 3798|\n",
      "| PAYMENT_REVIEW|  729|\n",
      "|     PROCESSING| 8275|\n",
      "|         CLOSED| 7556|\n",
      "|SUSPECTED_FRAUD| 1558|\n",
      "|        PENDING| 7610|\n",
      "|       CANCELED| 1428|\n",
      "+---------------+-----+\n",
      "\n"
     ]
    }
   ],
   "source": [
    "#Using Sparksql\n",
    "result2_sql = spark.sql(\"select order_status, count(order_id) as count from orders group by order_status\")\n",
    "result2_sql.show()"
   ]
  },
  {
   "cell_type": "markdown",
   "id": "afbaeaec",
   "metadata": {},
   "source": [
    "### 3. No. of Active Customers (Who placed atleast one order)"
   ]
  },
  {
   "cell_type": "code",
   "execution_count": 16,
   "id": "561cb49f",
   "metadata": {},
   "outputs": [
    {
     "data": {
      "text/plain": [
       "12405"
      ]
     },
     "execution_count": 16,
     "metadata": {},
     "output_type": "execute_result"
    }
   ],
   "source": [
    "result3_df = orders_df.select(\"customer_id\").distinct().count()\n",
    "result3_df"
   ]
  },
  {
   "cell_type": "code",
   "execution_count": 24,
   "id": "6e9aa073",
   "metadata": {},
   "outputs": [
    {
     "name": "stdout",
     "output_type": "stream",
     "text": [
      "+----------------+\n",
      "|Active_Customers|\n",
      "+----------------+\n",
      "|           12405|\n",
      "+----------------+\n",
      "\n"
     ]
    }
   ],
   "source": [
    "result3_sql = spark.sql(\"select count(distinct customer_id) as  Active_Customers from orders\")\n",
    "result3_sql.show()"
   ]
  },
  {
   "cell_type": "markdown",
   "id": "9b400fe0",
   "metadata": {},
   "source": [
    "### 4. Customers with most no. of closed orders"
   ]
  },
  {
   "cell_type": "code",
   "execution_count": 26,
   "id": "9fc98946",
   "metadata": {},
   "outputs": [
    {
     "name": "stdout",
     "output_type": "stream",
     "text": [
      "+-----------+-----+\n",
      "|customer_id|count|\n",
      "+-----------+-----+\n",
      "|       1833|    6|\n",
      "|       1363|    5|\n",
      "|       1687|    5|\n",
      "|       5493|    5|\n",
      "|      10111|    4|\n",
      "|      12431|    4|\n",
      "|      10263|    4|\n",
      "|       7879|    4|\n",
      "|       1521|    4|\n",
      "|       2403|    4|\n",
      "|       4573|    4|\n",
      "|      10018|    4|\n",
      "|       2774|    4|\n",
      "|       2768|    4|\n",
      "|       4588|    4|\n",
      "|       7948|    4|\n",
      "|        437|    4|\n",
      "|       5319|    4|\n",
      "|       7850|    4|\n",
      "|       2236|    4|\n",
      "+-----------+-----+\n",
      "only showing top 20 rows\n",
      "\n"
     ]
    }
   ],
   "source": [
    "result4_df = orders_df.filter(\"order_status = 'CLOSED'\").groupBy(\"customer_id\").count().sort(\"count\",ascending = False)\n",
    "result4_df.show()"
   ]
  },
  {
   "cell_type": "code",
   "execution_count": 32,
   "id": "40743acb",
   "metadata": {},
   "outputs": [
    {
     "name": "stdout",
     "output_type": "stream",
     "text": [
      "+-----------+-----+\n",
      "|customer_id|count|\n",
      "+-----------+-----+\n",
      "|       1833|    6|\n",
      "|       1363|    5|\n",
      "|       1687|    5|\n",
      "|       5493|    5|\n",
      "|       7948|    4|\n",
      "|       2768|    4|\n",
      "|      10263|    4|\n",
      "|       2236|    4|\n",
      "|       2403|    4|\n",
      "|       7879|    4|\n",
      "|       4573|    4|\n",
      "|       7850|    4|\n",
      "|      12431|    4|\n",
      "|       1521|    4|\n",
      "|      10111|    4|\n",
      "|        437|    4|\n",
      "|      10018|    4|\n",
      "|       5319|    4|\n",
      "|       2774|    4|\n",
      "|       3631|    4|\n",
      "+-----------+-----+\n",
      "only showing top 20 rows\n",
      "\n"
     ]
    }
   ],
   "source": [
    "result4_sql = spark.sql(\"select customer_id, count(order_id) as count from orders where order_status = 'CLOSED' group by customer_id order by count desc\")\n",
    "result4_sql.show()"
   ]
  },
  {
   "cell_type": "code",
   "execution_count": null,
   "id": "28c28437",
   "metadata": {},
   "outputs": [],
   "source": []
  }
 ],
 "metadata": {
  "kernelspec": {
   "display_name": "Pyspark 3",
   "language": "python",
   "name": "pyspark3"
  },
  "language_info": {
   "codemirror_mode": {
    "name": "ipython",
    "version": 3
   },
   "file_extension": ".py",
   "mimetype": "text/x-python",
   "name": "python",
   "nbconvert_exporter": "python",
   "pygments_lexer": "ipython3",
   "version": "3.6.12"
  }
 },
 "nbformat": 4,
 "nbformat_minor": 5
}
