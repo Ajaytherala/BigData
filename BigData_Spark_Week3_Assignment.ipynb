{
 "cells": [
  {
   "cell_type": "markdown",
   "id": "24668a78",
   "metadata": {},
   "source": [
    "# Code for creating a spark session"
   ]
  },
  {
   "cell_type": "code",
   "execution_count": 1,
   "id": "e49c777c",
   "metadata": {},
   "outputs": [],
   "source": [
    "from pyspark.sql import SparkSession\n",
    "import getpass\n",
    "username=getpass.getuser()\n",
    "spark=SparkSession.\\\n",
    "builder.\\\n",
    "config('spark.ui.port','0').\\\n",
    "config(\"spark.sql.warehouse.dir\",f\"/user/itv012676/warehouse\").\\\n",
    "enableHiveSupport().\\\n",
    "master('yarn').\\\n",
    "getOrCreate()"
   ]
  },
  {
   "cell_type": "code",
   "execution_count": 4,
   "id": "1aa35294",
   "metadata": {},
   "outputs": [
    {
     "data": {
      "text/html": [
       "\n",
       "            <div>\n",
       "                <p><b>SparkSession - hive</b></p>\n",
       "                \n",
       "        <div>\n",
       "            <p><b>SparkContext</b></p>\n",
       "\n",
       "            <p><a href=\"http://g02.itversity.com:45609\">Spark UI</a></p>\n",
       "\n",
       "            <dl>\n",
       "              <dt>Version</dt>\n",
       "                <dd><code>v3.1.2</code></dd>\n",
       "              <dt>Master</dt>\n",
       "                <dd><code>yarn</code></dd>\n",
       "              <dt>AppName</dt>\n",
       "                <dd><code>pyspark-shell</code></dd>\n",
       "            </dl>\n",
       "        </div>\n",
       "        \n",
       "            </div>\n",
       "        "
      ],
      "text/plain": [
       "<pyspark.sql.session.SparkSession at 0x7f8701062e10>"
      ]
     },
     "execution_count": 4,
     "metadata": {},
     "output_type": "execute_result"
    }
   ],
   "source": [
    "spark"
   ]
  },
  {
   "cell_type": "markdown",
   "id": "d8f26e70",
   "metadata": {},
   "source": [
    "# Spark Code for Counting the word frequency from text file"
   ]
  },
  {
   "cell_type": "code",
   "execution_count": 5,
   "id": "82899050",
   "metadata": {},
   "outputs": [],
   "source": [
    "rdd_1 = spark.sparkContext.textFile(\"/user/itv012676/data/input/inputfile.txt\") #code for loading a text file"
   ]
  },
  {
   "cell_type": "code",
   "execution_count": 6,
   "id": "f7634b52",
   "metadata": {},
   "outputs": [
    {
     "data": {
      "text/plain": [
       "['big data is interesting',\n",
       " 'big data is a trending technology',\n",
       " 'big data is taught by sumit sir',\n",
       " 'big data is very difficult to handle',\n",
       " 'my institute name is trendytech',\n",
       " '']"
      ]
     },
     "execution_count": 6,
     "metadata": {},
     "output_type": "execute_result"
    }
   ],
   "source": [
    "rdd_1.collect() #Spark does not ececutes code until we call action function (.coolect()) on the data unit"
   ]
  },
  {
   "cell_type": "code",
   "execution_count": 7,
   "id": "b0d4e9d8",
   "metadata": {},
   "outputs": [
    {
     "data": {
      "text/plain": [
       "['big',\n",
       " 'data',\n",
       " 'is',\n",
       " 'interesting',\n",
       " 'big',\n",
       " 'data',\n",
       " 'is',\n",
       " 'a',\n",
       " 'trending',\n",
       " 'technology',\n",
       " 'big',\n",
       " 'data',\n",
       " 'is',\n",
       " 'taught',\n",
       " 'by',\n",
       " 'sumit',\n",
       " 'sir',\n",
       " 'big',\n",
       " 'data',\n",
       " 'is',\n",
       " 'very',\n",
       " 'difficult',\n",
       " 'to',\n",
       " 'handle',\n",
       " 'my',\n",
       " 'institute',\n",
       " 'name',\n",
       " 'is',\n",
       " 'trendytech']"
      ]
     },
     "execution_count": 7,
     "metadata": {},
     "output_type": "execute_result"
    }
   ],
   "source": [
    "rdd_2 = rdd_1.flatMap(lambda x:x.split())\n",
    "rdd_2.collect()"
   ]
  },
  {
   "cell_type": "code",
   "execution_count": 8,
   "id": "98c41eab",
   "metadata": {},
   "outputs": [
    {
     "data": {
      "text/plain": [
       "[('big', 1),\n",
       " ('data', 1),\n",
       " ('is', 1),\n",
       " ('interesting', 1),\n",
       " ('big', 1),\n",
       " ('data', 1),\n",
       " ('is', 1),\n",
       " ('a', 1),\n",
       " ('trending', 1),\n",
       " ('technology', 1),\n",
       " ('big', 1),\n",
       " ('data', 1),\n",
       " ('is', 1),\n",
       " ('taught', 1),\n",
       " ('by', 1),\n",
       " ('sumit', 1),\n",
       " ('sir', 1),\n",
       " ('big', 1),\n",
       " ('data', 1),\n",
       " ('is', 1),\n",
       " ('very', 1),\n",
       " ('difficult', 1),\n",
       " ('to', 1),\n",
       " ('handle', 1),\n",
       " ('my', 1),\n",
       " ('institute', 1),\n",
       " ('name', 1),\n",
       " ('is', 1),\n",
       " ('trendytech', 1)]"
      ]
     },
     "execution_count": 8,
     "metadata": {},
     "output_type": "execute_result"
    }
   ],
   "source": [
    "rdd_3 = rdd_2.map(lambda x: (x,1))\n",
    "rdd_3.collect()"
   ]
  },
  {
   "cell_type": "code",
   "execution_count": 9,
   "id": "a055325b",
   "metadata": {},
   "outputs": [
    {
     "data": {
      "text/plain": [
       "[('is', 5),\n",
       " ('interesting', 1),\n",
       " ('trending', 1),\n",
       " ('technology', 1),\n",
       " ('sumit', 1),\n",
       " ('very', 1),\n",
       " ('handle', 1),\n",
       " ('institute', 1),\n",
       " ('name', 1),\n",
       " ('trendytech', 1),\n",
       " ('big', 4),\n",
       " ('data', 4),\n",
       " ('a', 1),\n",
       " ('taught', 1),\n",
       " ('by', 1),\n",
       " ('sir', 1),\n",
       " ('difficult', 1),\n",
       " ('to', 1),\n",
       " ('my', 1)]"
      ]
     },
     "execution_count": 9,
     "metadata": {},
     "output_type": "execute_result"
    }
   ],
   "source": [
    "rdd_4 = rdd_3.reduceByKey(lambda x,y:x+y)\n",
    "rdd_4.collect()"
   ]
  },
  {
   "cell_type": "code",
   "execution_count": 10,
   "id": "230ea236",
   "metadata": {},
   "outputs": [],
   "source": [
    "rdd_4.saveAsTextFile(\"/user/itv012676/data/spark_word_frequency.txt\")"
   ]
  },
  {
   "cell_type": "markdown",
   "id": "5a91633b",
   "metadata": {},
   "source": [
    "# Spark Code for Counting the No. of LinkedIn Views\n",
    "1, Manasa, Smith indicates Manasa Viewed Smith's Profile\n",
    "\n",
    "\n",
    "Our goal is to find how many no. of views did each person get"
   ]
  },
  {
   "cell_type": "code",
   "execution_count": 12,
   "id": "046d88d4",
   "metadata": {},
   "outputs": [
    {
     "data": {
      "text/plain": [
       "['1,Manasa,Smith',\n",
       " '2,Ram,Shyam',\n",
       " '3,Shyam,Som',\n",
       " '4,Som,Ram',\n",
       " '5,Shyam,Ram',\n",
       " '6,Ram,Smitha',\n",
       " '7,Smitha,Smith',\n",
       " '8,Ram,Sita',\n",
       " '9,Ram,Tom',\n",
       " '10,Tom,Ram']"
      ]
     },
     "execution_count": 12,
     "metadata": {},
     "output_type": "execute_result"
    }
   ],
   "source": [
    "rdd_linv_1 = spark.sparkContext.textFile(\"/user/itv012676/data/input/linkedin_views.csv\")\n",
    "rdd_linv_1.collect()"
   ]
  },
  {
   "cell_type": "code",
   "execution_count": 17,
   "id": "68fcf6d8",
   "metadata": {},
   "outputs": [
    {
     "data": {
      "text/plain": [
       "['Smith',\n",
       " 'Shyam',\n",
       " 'Som',\n",
       " 'Ram',\n",
       " 'Ram',\n",
       " 'Smitha',\n",
       " 'Smith',\n",
       " 'Sita',\n",
       " 'Tom',\n",
       " 'Ram']"
      ]
     },
     "execution_count": 17,
     "metadata": {},
     "output_type": "execute_result"
    }
   ],
   "source": [
    "rdd_linv_2 = rdd_linv_1.map(lambda x:x.split(\",\")[2])\n",
    "rdd_linv_2.collect()"
   ]
  },
  {
   "cell_type": "code",
   "execution_count": 18,
   "id": "a8511994",
   "metadata": {},
   "outputs": [
    {
     "data": {
      "text/plain": [
       "[('Smith', 1),\n",
       " ('Shyam', 1),\n",
       " ('Som', 1),\n",
       " ('Ram', 1),\n",
       " ('Ram', 1),\n",
       " ('Smitha', 1),\n",
       " ('Smith', 1),\n",
       " ('Sita', 1),\n",
       " ('Tom', 1),\n",
       " ('Ram', 1)]"
      ]
     },
     "execution_count": 18,
     "metadata": {},
     "output_type": "execute_result"
    }
   ],
   "source": [
    "rdd_linv_3 = rdd_linv_2.map(lambda x:(x,1))\n",
    "rdd_linv_3.collect()"
   ]
  },
  {
   "cell_type": "code",
   "execution_count": 20,
   "id": "918633c8",
   "metadata": {},
   "outputs": [
    {
     "data": {
      "text/plain": [
       "[('Smitha', 1),\n",
       " ('Smith', 2),\n",
       " ('Sita', 1),\n",
       " ('Tom', 1),\n",
       " ('Shyam', 1),\n",
       " ('Ram', 3),\n",
       " ('Som', 1)]"
      ]
     },
     "execution_count": 20,
     "metadata": {},
     "output_type": "execute_result"
    }
   ],
   "source": [
    "rdd_linv_4 = rdd_linv_3.reduceByKey(lambda x,y:x+y)\n",
    "rdd_linv_4.collect()"
   ]
  },
  {
   "cell_type": "code",
   "execution_count": null,
   "id": "2e5ff3ba",
   "metadata": {},
   "outputs": [],
   "source": []
  }
 ],
 "metadata": {
  "kernelspec": {
   "display_name": "Python 3 (ipykernel)",
   "language": "python",
   "name": "python3"
  },
  "language_info": {
   "codemirror_mode": {
    "name": "ipython",
    "version": 3
   },
   "file_extension": ".py",
   "mimetype": "text/x-python",
   "name": "python",
   "nbconvert_exporter": "python",
   "pygments_lexer": "ipython3",
   "version": "3.11.5"
  }
 },
 "nbformat": 4,
 "nbformat_minor": 5
}
