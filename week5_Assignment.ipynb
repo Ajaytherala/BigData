{
 "cells": [
  {
   "cell_type": "code",
   "execution_count": 1,
   "id": "deb32118",
   "metadata": {},
   "outputs": [],
   "source": [
    "from pyspark.sql import SparkSession\n",
    "import getpass\n",
    "username = getpass.getuser()\n",
    "spark = SparkSession.\\\n",
    "builder.\\\n",
    "config('spark.ui.port','0').\\\n",
    "config(\"spark.sql.warehouse.dir\",f\"/user/itv012676/warehouse\").\\\n",
    "enableHiveSupport().\\\n",
    "master('yarn').\\\n",
    "getOrCreate()"
   ]
  },
  {
   "cell_type": "markdown",
   "id": "d7d45bca",
   "metadata": {},
   "source": [
    "### 1.1.Create a managed spark table and load data to it from the given csv file\n",
    "  "
   ]
  },
  {
   "cell_type": "code",
   "execution_count": 2,
   "id": "8521b654",
   "metadata": {},
   "outputs": [
    {
     "data": {
      "text/html": [
       "<table border='1'>\n",
       "<tr><th></th></tr>\n",
       "</table>\n"
      ],
      "text/plain": [
       "++\n",
       "||\n",
       "++\n",
       "++"
      ]
     },
     "execution_count": 2,
     "metadata": {},
     "output_type": "execute_result"
    }
   ],
   "source": [
    "spark.sql(\"create database if not exists week5_assignment_itv012676\")"
   ]
  },
  {
   "cell_type": "code",
   "execution_count": 3,
   "id": "76bc164a",
   "metadata": {},
   "outputs": [
    {
     "data": {
      "text/html": [
       "<table border='1'>\n",
       "<tr><th></th></tr>\n",
       "</table>\n"
      ],
      "text/plain": [
       "++\n",
       "||\n",
       "++\n",
       "++"
      ]
     },
     "execution_count": 3,
     "metadata": {},
     "output_type": "execute_result"
    }
   ],
   "source": [
    "spark.sql(\"use week5_assignment_itv012676\")"
   ]
  },
  {
   "cell_type": "code",
   "execution_count": 4,
   "id": "a5022169",
   "metadata": {},
   "outputs": [
    {
     "name": "stdout",
     "output_type": "stream",
     "text": [
      "+--------------------+--------------------+-----------+\n",
      "|            database|           tableName|isTemporary|\n",
      "+--------------------+--------------------+-----------+\n",
      "|week5_assignment_...|customers_itv0126...|      false|\n",
      "|week5_assignment_...| groceries_itv012676|      false|\n",
      "|week5_assignment_...|groceries_itv0126...|      false|\n",
      "|week5_assignment_...|products_itv012676_m|      false|\n",
      "+--------------------+--------------------+-----------+\n",
      "\n"
     ]
    }
   ],
   "source": [
    "spark.sql(\"show tables\").show()"
   ]
  },
  {
   "cell_type": "code",
   "execution_count": 5,
   "id": "231da5a7",
   "metadata": {},
   "outputs": [
    {
     "data": {
      "text/html": [
       "<table border='1'>\n",
       "<tr><th></th></tr>\n",
       "</table>\n"
      ],
      "text/plain": [
       "++\n",
       "||\n",
       "++\n",
       "++"
      ]
     },
     "execution_count": 5,
     "metadata": {},
     "output_type": "execute_result"
    }
   ],
   "source": [
    "spark.sql(\"create table week5_assignment_itv012676.groceries_itv012676_m(order_id string, location string, item string, order_date string, quantity integer)\")"
   ]
  },
  {
   "cell_type": "code",
   "execution_count": 6,
   "id": "3602e5fb",
   "metadata": {},
   "outputs": [
    {
     "name": "stdout",
     "output_type": "stream",
     "text": [
      "+--------------------------+---------------------------+-----------+\n",
      "|database                  |tableName                  |isTemporary|\n",
      "+--------------------------+---------------------------+-----------+\n",
      "|week5_assignment_itv012676|customers_itv012676_m      |false      |\n",
      "|week5_assignment_itv012676|groceries_itv012676        |false      |\n",
      "|week5_assignment_itv012676|groceries_itv012676_m      |false      |\n",
      "|week5_assignment_itv012676|groceries_itv012676_managed|false      |\n",
      "|week5_assignment_itv012676|products_itv012676_m       |false      |\n",
      "+--------------------------+---------------------------+-----------+\n",
      "\n"
     ]
    }
   ],
   "source": [
    "spark.sql(\"show tables\").show(truncate=False)"
   ]
  },
  {
   "cell_type": "code",
   "execution_count": 7,
   "id": "cd65ac01",
   "metadata": {},
   "outputs": [],
   "source": [
    "groceries_df = spark.read \\\n",
    ".format(\"csv\") \\\n",
    ".option(\"header\",\"true\") \\\n",
    ".option(\"inferSchema\",\"true\") \\\n",
    ".load(\"/public/trendytech/groceries.csv\")"
   ]
  },
  {
   "cell_type": "code",
   "execution_count": 8,
   "id": "7ea24791",
   "metadata": {},
   "outputs": [
    {
     "name": "stdout",
     "output_type": "stream",
     "text": [
      "+--------+--------+--------+----------+--------+\n",
      "|order_id|location|    item|order_date|quantity|\n",
      "+--------+--------+--------+----------+--------+\n",
      "|      o1| Seattle| Bananas|01/01/2017|       7|\n",
      "|      o2|    Kent|  Apples|02/01/2017|      20|\n",
      "|      o3|Bellevue| Flowers|02/01/2017|      10|\n",
      "|      o4| Redmond|    Meat|03/01/2017|      40|\n",
      "|      o5| Seattle|Potatoes|04/01/2017|       9|\n",
      "+--------+--------+--------+----------+--------+\n",
      "only showing top 5 rows\n",
      "\n"
     ]
    }
   ],
   "source": [
    "groceries_df.show(5)"
   ]
  },
  {
   "cell_type": "code",
   "execution_count": 9,
   "id": "ea80198b",
   "metadata": {},
   "outputs": [],
   "source": [
    "groceries_df.createOrReplaceTempView(\"groceries_data\")"
   ]
  },
  {
   "cell_type": "code",
   "execution_count": 10,
   "id": "103de382",
   "metadata": {},
   "outputs": [
    {
     "name": "stdout",
     "output_type": "stream",
     "text": [
      "+--------+---------+--------+----------+--------+\n",
      "|order_id| location|    item|order_date|quantity|\n",
      "+--------+---------+--------+----------+--------+\n",
      "|      o1|  Seattle| Bananas|01/01/2017|       7|\n",
      "|      o2|     Kent|  Apples|02/01/2017|      20|\n",
      "|      o3| Bellevue| Flowers|02/01/2017|      10|\n",
      "|      o4|  Redmond|    Meat|03/01/2017|      40|\n",
      "|      o5|  Seattle|Potatoes|04/01/2017|       9|\n",
      "|      o6| Bellevue|   Bread|04/01/2017|       5|\n",
      "|      o7|  Redmond|   Bread|05/01/2017|       5|\n",
      "|      o8| Issaquah|   Onion|05/01/2017|       4|\n",
      "|      o9|  Redmond|  Cheese|05/01/2017|      15|\n",
      "|     o10| Issaquah|   Onion|06/01/2017|       4|\n",
      "|     o11|   Renton|   Bread|05/01/2017|       5|\n",
      "|     o12| Issaquah|   Onion|07/01/2017|       4|\n",
      "|     o13|Sammamish|   Bread|07/01/2017|       5|\n",
      "|     o14| Issaquah|  Tomato|07/01/2017|       6|\n",
      "|     o15| Issaquah|    Meat|08/01/2017|       3|\n",
      "|     o16| Issaquah|    Meat|09/01/2017|       5|\n",
      "|     o17| Issaquah|    Meat|10/01/2017|       6|\n",
      "|     o18| Bellevue|   Bread|11/01/2017|       7|\n",
      "|     o19| Bellevue|   Bread|12/01/2017|      54|\n",
      "|     o20| Bellevue|   Bread|13/01/2017|      34|\n",
      "+--------+---------+--------+----------+--------+\n",
      "only showing top 20 rows\n",
      "\n"
     ]
    }
   ],
   "source": [
    "spark.sql(\"select * from groceries_data\").show()"
   ]
  },
  {
   "cell_type": "code",
   "execution_count": 11,
   "id": "858fefc1",
   "metadata": {},
   "outputs": [
    {
     "data": {
      "text/html": [
       "<table border='1'>\n",
       "<tr><th></th></tr>\n",
       "</table>\n"
      ],
      "text/plain": [
       "++\n",
       "||\n",
       "++\n",
       "++"
      ]
     },
     "execution_count": 11,
     "metadata": {},
     "output_type": "execute_result"
    }
   ],
   "source": [
    "spark.sql(\"insert into week5_assignment_itv012676.groceries_itv012676_m select * from groceries_data\")"
   ]
  },
  {
   "cell_type": "markdown",
   "id": "1094a29b",
   "metadata": {},
   "source": [
    "### 1.2. Create an external spark table with the same data."
   ]
  },
  {
   "cell_type": "code",
   "execution_count": 12,
   "id": "7212b041",
   "metadata": {},
   "outputs": [
    {
     "data": {
      "text/html": [
       "<table border='1'>\n",
       "<tr><th></th></tr>\n",
       "</table>\n"
      ],
      "text/plain": [
       "++\n",
       "||\n",
       "++\n",
       "++"
      ]
     },
     "execution_count": 12,
     "metadata": {},
     "output_type": "execute_result"
    }
   ],
   "source": [
    "spark.sql(\"create table week5_assignment_itv012676.groceries_itv012676_e(order_id string, location string, item string, order_date string, quantity integer) using csv location '/public/trendytech/groceries.csv'\")"
   ]
  },
  {
   "cell_type": "code",
   "execution_count": 13,
   "id": "d8ca42fb",
   "metadata": {},
   "outputs": [
    {
     "name": "stdout",
     "output_type": "stream",
     "text": [
      "+--------------------------+---------------------------+-----------+\n",
      "|database                  |tableName                  |isTemporary|\n",
      "+--------------------------+---------------------------+-----------+\n",
      "|week5_assignment_itv012676|customers_itv012676_m      |false      |\n",
      "|week5_assignment_itv012676|groceries_itv012676        |false      |\n",
      "|week5_assignment_itv012676|groceries_itv012676_e      |false      |\n",
      "|week5_assignment_itv012676|groceries_itv012676_m      |false      |\n",
      "|week5_assignment_itv012676|groceries_itv012676_managed|false      |\n",
      "|week5_assignment_itv012676|products_itv012676_m       |false      |\n",
      "|                          |groceries_data             |true       |\n",
      "+--------------------------+---------------------------+-----------+\n",
      "\n"
     ]
    }
   ],
   "source": [
    "spark.sql(\"show tables\").show(truncate=False)"
   ]
  },
  {
   "cell_type": "markdown",
   "id": "1ebdda26",
   "metadata": {},
   "source": [
    "### 1.3. Verify that the data has been successfully loaded into both the tables"
   ]
  },
  {
   "cell_type": "code",
   "execution_count": 14,
   "id": "2163ea7a",
   "metadata": {},
   "outputs": [
    {
     "name": "stdout",
     "output_type": "stream",
     "text": [
      "+--------+--------+--------+----------+--------+\n",
      "|order_id|location|    item|order_date|quantity|\n",
      "+--------+--------+--------+----------+--------+\n",
      "|      o1| Seattle| Bananas|01/01/2017|       7|\n",
      "|      o2|    Kent|  Apples|02/01/2017|      20|\n",
      "|      o3|Bellevue| Flowers|02/01/2017|      10|\n",
      "|      o4| Redmond|    Meat|03/01/2017|      40|\n",
      "|      o5| Seattle|Potatoes|04/01/2017|       9|\n",
      "|      o6|Bellevue|   Bread|04/01/2017|       5|\n",
      "|      o7| Redmond|   Bread|05/01/2017|       5|\n",
      "|      o8|Issaquah|   Onion|05/01/2017|       4|\n",
      "|      o9| Redmond|  Cheese|05/01/2017|      15|\n",
      "|     o10|Issaquah|   Onion|06/01/2017|       4|\n",
      "+--------+--------+--------+----------+--------+\n",
      "only showing top 10 rows\n",
      "\n"
     ]
    }
   ],
   "source": [
    "spark.sql(\"select * from week5_assignment_itv012676.groceries_itv012676_m\").show(10)"
   ]
  },
  {
   "cell_type": "code",
   "execution_count": 15,
   "id": "38525280",
   "metadata": {},
   "outputs": [
    {
     "name": "stdout",
     "output_type": "stream",
     "text": [
      "+--------+--------+--------+----------+--------+\n",
      "|order_id|location|    item|order_date|quantity|\n",
      "+--------+--------+--------+----------+--------+\n",
      "|order_id|location|    item|order_date|    null|\n",
      "|      o1| Seattle| Bananas|01/01/2017|       7|\n",
      "|      o2|    Kent|  Apples|02/01/2017|      20|\n",
      "|      o3|Bellevue| Flowers|02/01/2017|      10|\n",
      "|      o4| Redmond|    Meat|03/01/2017|      40|\n",
      "|      o5| Seattle|Potatoes|04/01/2017|       9|\n",
      "|      o6|Bellevue|   Bread|04/01/2017|       5|\n",
      "|      o7| Redmond|   Bread|05/01/2017|       5|\n",
      "|      o8|Issaquah|   Onion|05/01/2017|       4|\n",
      "|      o9| Redmond|  Cheese|05/01/2017|      15|\n",
      "+--------+--------+--------+----------+--------+\n",
      "only showing top 10 rows\n",
      "\n"
     ]
    }
   ],
   "source": [
    "spark.sql(\"select * from week5_assignment_itv012676.groceries_itv012676_e\").show(10)"
   ]
  },
  {
   "cell_type": "markdown",
   "id": "c2416143",
   "metadata": {},
   "source": [
    "### 1.4 Drop the managed and external tables and see the differences"
   ]
  },
  {
   "cell_type": "code",
   "execution_count": 16,
   "id": "29bd7b8b",
   "metadata": {},
   "outputs": [
    {
     "data": {
      "text/html": [
       "<table border='1'>\n",
       "<tr><th></th></tr>\n",
       "</table>\n"
      ],
      "text/plain": [
       "++\n",
       "||\n",
       "++\n",
       "++"
      ]
     },
     "execution_count": 16,
     "metadata": {},
     "output_type": "execute_result"
    }
   ],
   "source": [
    "spark.sql(\"drop table week5_assignment_itv012676.groceries_itv012676_e\") #dropping external table"
   ]
  },
  {
   "cell_type": "code",
   "execution_count": 17,
   "id": "a5cec963",
   "metadata": {},
   "outputs": [
    {
     "name": "stdout",
     "output_type": "stream",
     "text": [
      "+--------------------------+---------------------------+-----------+\n",
      "|database                  |tableName                  |isTemporary|\n",
      "+--------------------------+---------------------------+-----------+\n",
      "|week5_assignment_itv012676|customers_itv012676_m      |false      |\n",
      "|week5_assignment_itv012676|groceries_itv012676        |false      |\n",
      "|week5_assignment_itv012676|groceries_itv012676_m      |false      |\n",
      "|week5_assignment_itv012676|groceries_itv012676_managed|false      |\n",
      "|week5_assignment_itv012676|products_itv012676_m       |false      |\n",
      "|                          |groceries_data             |true       |\n",
      "+--------------------------+---------------------------+-----------+\n",
      "\n"
     ]
    }
   ],
   "source": [
    "spark.sql(\"show tables\").show(truncate = False)"
   ]
  },
  {
   "cell_type": "code",
   "execution_count": 18,
   "id": "b5fd8c61",
   "metadata": {},
   "outputs": [
    {
     "data": {
      "text/html": [
       "<table border='1'>\n",
       "<tr><th></th></tr>\n",
       "</table>\n"
      ],
      "text/plain": [
       "++\n",
       "||\n",
       "++\n",
       "++"
      ]
     },
     "execution_count": 18,
     "metadata": {},
     "output_type": "execute_result"
    }
   ],
   "source": [
    "spark.sql(\"drop table week5_assignment_itv012676.groceries_itv012676_m\") #dropping managed table"
   ]
  },
  {
   "cell_type": "code",
   "execution_count": 19,
   "id": "f149de13",
   "metadata": {},
   "outputs": [
    {
     "name": "stdout",
     "output_type": "stream",
     "text": [
      "+--------------------------+---------------------------+-----------+\n",
      "|database                  |tableName                  |isTemporary|\n",
      "+--------------------------+---------------------------+-----------+\n",
      "|week5_assignment_itv012676|customers_itv012676_m      |false      |\n",
      "|week5_assignment_itv012676|groceries_itv012676        |false      |\n",
      "|week5_assignment_itv012676|groceries_itv012676_managed|false      |\n",
      "|week5_assignment_itv012676|products_itv012676_m       |false      |\n",
      "|                          |groceries_data             |true       |\n",
      "+--------------------------+---------------------------+-----------+\n",
      "\n"
     ]
    }
   ],
   "source": [
    "spark.sql(\"show tables\").show(truncate = False)"
   ]
  },
  {
   "cell_type": "markdown",
   "id": "4ccd19e4",
   "metadata": {},
   "source": [
    "### Repeating Above all with Json File"
   ]
  },
  {
   "cell_type": "code",
   "execution_count": 20,
   "id": "c41c3d06",
   "metadata": {},
   "outputs": [
    {
     "data": {
      "text/html": [
       "<table border='1'>\n",
       "<tr><th></th></tr>\n",
       "</table>\n"
      ],
      "text/plain": [
       "++\n",
       "||\n",
       "++\n",
       "++"
      ]
     },
     "execution_count": 20,
     "metadata": {},
     "output_type": "execute_result"
    }
   ],
   "source": [
    "spark.sql(\"create database if not exists week5_assignment_itv012676_2\")"
   ]
  },
  {
   "cell_type": "code",
   "execution_count": 21,
   "id": "4802d5a8",
   "metadata": {},
   "outputs": [
    {
     "data": {
      "text/html": [
       "<table border='1'>\n",
       "<tr><th></th></tr>\n",
       "</table>\n"
      ],
      "text/plain": [
       "++\n",
       "||\n",
       "++\n",
       "++"
      ]
     },
     "execution_count": 21,
     "metadata": {},
     "output_type": "execute_result"
    }
   ],
   "source": [
    "spark.sql(\"use week5_assignment_itv012676_2\")"
   ]
  },
  {
   "cell_type": "code",
   "execution_count": 22,
   "id": "31ffcfab",
   "metadata": {},
   "outputs": [
    {
     "name": "stdout",
     "output_type": "stream",
     "text": [
      "+--------+--------------+-----------+\n",
      "|database|     tableName|isTemporary|\n",
      "+--------+--------------+-----------+\n",
      "|        |groceries_data|       true|\n",
      "+--------+--------------+-----------+\n",
      "\n"
     ]
    }
   ],
   "source": [
    "spark.sql(\"show tables\").show()"
   ]
  },
  {
   "cell_type": "code",
   "execution_count": 23,
   "id": "0752d330",
   "metadata": {},
   "outputs": [
    {
     "data": {
      "text/html": [
       "<table border='1'>\n",
       "<tr><th></th></tr>\n",
       "</table>\n"
      ],
      "text/plain": [
       "++\n",
       "||\n",
       "++\n",
       "++"
      ]
     },
     "execution_count": 23,
     "metadata": {},
     "output_type": "execute_result"
    }
   ],
   "source": [
    "spark.sql(\"create table week5_assignment_itv012676_2.groceries_itv012676_m(customer_id string, order_date string, order_id string, order_status string)\")"
   ]
  },
  {
   "cell_type": "code",
   "execution_count": 24,
   "id": "6e5c50e7",
   "metadata": {},
   "outputs": [
    {
     "name": "stdout",
     "output_type": "stream",
     "text": [
      "+----------------------------+---------------------+-----------+\n",
      "|database                    |tableName            |isTemporary|\n",
      "+----------------------------+---------------------+-----------+\n",
      "|week5_assignment_itv012676_2|groceries_itv012676_m|false      |\n",
      "|                            |groceries_data       |true       |\n",
      "+----------------------------+---------------------+-----------+\n",
      "\n"
     ]
    }
   ],
   "source": [
    "spark.sql(\"show tables\").show(truncate=False)"
   ]
  },
  {
   "cell_type": "code",
   "execution_count": 25,
   "id": "8c5e39f7",
   "metadata": {},
   "outputs": [],
   "source": [
    "groceries_df = spark.read \\\n",
    ".format(\"json\") \\\n",
    ".option(\"header\",\"true\") \\\n",
    ".option(\"inferSchema\",\"true\") \\\n",
    ".load(\"/public/trendytech/orders_wh.json/part-00000-68544d18-9a34-443f-bf0e-1dd8103ff94e-c000.json\")"
   ]
  },
  {
   "cell_type": "code",
   "execution_count": 26,
   "id": "eb1dbd6b",
   "metadata": {},
   "outputs": [
    {
     "name": "stdout",
     "output_type": "stream",
     "text": [
      "+-----------+---------------------+--------+---------------+\n",
      "|customer_id|order_date           |order_id|order_status   |\n",
      "+-----------+---------------------+--------+---------------+\n",
      "|11599      |2013-07-25 00:00:00.0|1       |CLOSED         |\n",
      "|256        |2013-07-25 00:00:00.0|2       |PENDING_PAYMENT|\n",
      "|12111      |2013-07-25 00:00:00.0|3       |COMPLETE       |\n",
      "|8827       |2013-07-25 00:00:00.0|4       |CLOSED         |\n",
      "|11318      |2013-07-25 00:00:00.0|5       |COMPLETE       |\n",
      "+-----------+---------------------+--------+---------------+\n",
      "only showing top 5 rows\n",
      "\n"
     ]
    }
   ],
   "source": [
    "groceries_df.show(5,truncate=False)"
   ]
  },
  {
   "cell_type": "code",
   "execution_count": 27,
   "id": "2c1ccd00",
   "metadata": {},
   "outputs": [],
   "source": [
    "groceries_df.createOrReplaceTempView(\"groceries_data\")"
   ]
  },
  {
   "cell_type": "code",
   "execution_count": 28,
   "id": "bbff0bb9",
   "metadata": {},
   "outputs": [
    {
     "name": "stdout",
     "output_type": "stream",
     "text": [
      "+-----------+---------------------+--------+---------------+\n",
      "|customer_id|order_date           |order_id|order_status   |\n",
      "+-----------+---------------------+--------+---------------+\n",
      "|11599      |2013-07-25 00:00:00.0|1       |CLOSED         |\n",
      "|256        |2013-07-25 00:00:00.0|2       |PENDING_PAYMENT|\n",
      "|12111      |2013-07-25 00:00:00.0|3       |COMPLETE       |\n",
      "|8827       |2013-07-25 00:00:00.0|4       |CLOSED         |\n",
      "|11318      |2013-07-25 00:00:00.0|5       |COMPLETE       |\n",
      "|7130       |2013-07-25 00:00:00.0|6       |COMPLETE       |\n",
      "|4530       |2013-07-25 00:00:00.0|7       |COMPLETE       |\n",
      "|2911       |2013-07-25 00:00:00.0|8       |PROCESSING     |\n",
      "|5657       |2013-07-25 00:00:00.0|9       |PENDING_PAYMENT|\n",
      "|5648       |2013-07-25 00:00:00.0|10      |PENDING_PAYMENT|\n",
      "|918        |2013-07-25 00:00:00.0|11      |PAYMENT_REVIEW |\n",
      "|1837       |2013-07-25 00:00:00.0|12      |CLOSED         |\n",
      "|9149       |2013-07-25 00:00:00.0|13      |PENDING_PAYMENT|\n",
      "|9842       |2013-07-25 00:00:00.0|14      |PROCESSING     |\n",
      "|2568       |2013-07-25 00:00:00.0|15      |COMPLETE       |\n",
      "|7276       |2013-07-25 00:00:00.0|16      |PENDING_PAYMENT|\n",
      "|2667       |2013-07-25 00:00:00.0|17      |COMPLETE       |\n",
      "|1205       |2013-07-25 00:00:00.0|18      |CLOSED         |\n",
      "|9488       |2013-07-25 00:00:00.0|19      |PENDING_PAYMENT|\n",
      "|9198       |2013-07-25 00:00:00.0|20      |PROCESSING     |\n",
      "+-----------+---------------------+--------+---------------+\n",
      "only showing top 20 rows\n",
      "\n"
     ]
    }
   ],
   "source": [
    "spark.sql(\"select * from groceries_data\").show(truncate = False)"
   ]
  },
  {
   "cell_type": "code",
   "execution_count": 29,
   "id": "5ab35835",
   "metadata": {},
   "outputs": [
    {
     "data": {
      "text/html": [
       "<table border='1'>\n",
       "<tr><th></th></tr>\n",
       "</table>\n"
      ],
      "text/plain": [
       "++\n",
       "||\n",
       "++\n",
       "++"
      ]
     },
     "execution_count": 29,
     "metadata": {},
     "output_type": "execute_result"
    }
   ],
   "source": [
    "spark.sql(\"insert into week5_assignment_itv012676_2.groceries_itv012676_m select * from groceries_data\")"
   ]
  },
  {
   "cell_type": "code",
   "execution_count": 30,
   "id": "3512bf60",
   "metadata": {},
   "outputs": [
    {
     "data": {
      "text/html": [
       "<table border='1'>\n",
       "<tr><th></th></tr>\n",
       "</table>\n"
      ],
      "text/plain": [
       "++\n",
       "||\n",
       "++\n",
       "++"
      ]
     },
     "execution_count": 30,
     "metadata": {},
     "output_type": "execute_result"
    }
   ],
   "source": [
    "spark.sql(\"create table week5_assignment_itv012676_2.groceries_itv012676_e(customer_id string, order_date string, order_id string, order_status string) using json location '/public/trendytech/orders_wh.json/part-00000-68544d18-9a34-443f-bf0e-1dd8103ff94e-c000.json'\")"
   ]
  },
  {
   "cell_type": "code",
   "execution_count": 31,
   "id": "55687e19",
   "metadata": {},
   "outputs": [
    {
     "name": "stdout",
     "output_type": "stream",
     "text": [
      "+----------------------------+---------------------+-----------+\n",
      "|database                    |tableName            |isTemporary|\n",
      "+----------------------------+---------------------+-----------+\n",
      "|week5_assignment_itv012676_2|groceries_itv012676_e|false      |\n",
      "|week5_assignment_itv012676_2|groceries_itv012676_m|false      |\n",
      "|                            |groceries_data       |true       |\n",
      "+----------------------------+---------------------+-----------+\n",
      "\n"
     ]
    }
   ],
   "source": [
    "spark.sql(\"show tables\").show(truncate=False)"
   ]
  },
  {
   "cell_type": "code",
   "execution_count": 32,
   "id": "84be4831",
   "metadata": {},
   "outputs": [
    {
     "name": "stdout",
     "output_type": "stream",
     "text": [
      "+-----------+--------------------+--------+---------------+\n",
      "|customer_id|          order_date|order_id|   order_status|\n",
      "+-----------+--------------------+--------+---------------+\n",
      "|      11599|2013-07-25 00:00:...|       1|         CLOSED|\n",
      "|        256|2013-07-25 00:00:...|       2|PENDING_PAYMENT|\n",
      "|      12111|2013-07-25 00:00:...|       3|       COMPLETE|\n",
      "|       8827|2013-07-25 00:00:...|       4|         CLOSED|\n",
      "|      11318|2013-07-25 00:00:...|       5|       COMPLETE|\n",
      "|       7130|2013-07-25 00:00:...|       6|       COMPLETE|\n",
      "|       4530|2013-07-25 00:00:...|       7|       COMPLETE|\n",
      "|       2911|2013-07-25 00:00:...|       8|     PROCESSING|\n",
      "|       5657|2013-07-25 00:00:...|       9|PENDING_PAYMENT|\n",
      "|       5648|2013-07-25 00:00:...|      10|PENDING_PAYMENT|\n",
      "+-----------+--------------------+--------+---------------+\n",
      "only showing top 10 rows\n",
      "\n"
     ]
    }
   ],
   "source": [
    "spark.sql(\"select * from week5_assignment_itv012676_2.groceries_itv012676_m\").show(10)"
   ]
  },
  {
   "cell_type": "code",
   "execution_count": 33,
   "id": "60d55fb0",
   "metadata": {},
   "outputs": [
    {
     "name": "stdout",
     "output_type": "stream",
     "text": [
      "+-----------+--------------------+--------+---------------+\n",
      "|customer_id|          order_date|order_id|   order_status|\n",
      "+-----------+--------------------+--------+---------------+\n",
      "|      11599|2013-07-25 00:00:...|       1|         CLOSED|\n",
      "|        256|2013-07-25 00:00:...|       2|PENDING_PAYMENT|\n",
      "|      12111|2013-07-25 00:00:...|       3|       COMPLETE|\n",
      "|       8827|2013-07-25 00:00:...|       4|         CLOSED|\n",
      "|      11318|2013-07-25 00:00:...|       5|       COMPLETE|\n",
      "|       7130|2013-07-25 00:00:...|       6|       COMPLETE|\n",
      "|       4530|2013-07-25 00:00:...|       7|       COMPLETE|\n",
      "|       2911|2013-07-25 00:00:...|       8|     PROCESSING|\n",
      "|       5657|2013-07-25 00:00:...|       9|PENDING_PAYMENT|\n",
      "|       5648|2013-07-25 00:00:...|      10|PENDING_PAYMENT|\n",
      "+-----------+--------------------+--------+---------------+\n",
      "only showing top 10 rows\n",
      "\n"
     ]
    }
   ],
   "source": [
    "spark.sql(\"select * from week5_assignment_itv012676_2.groceries_itv012676_e\").show(10)"
   ]
  },
  {
   "cell_type": "code",
   "execution_count": 34,
   "id": "d2266a05",
   "metadata": {},
   "outputs": [
    {
     "data": {
      "text/html": [
       "<table border='1'>\n",
       "<tr><th></th></tr>\n",
       "</table>\n"
      ],
      "text/plain": [
       "++\n",
       "||\n",
       "++\n",
       "++"
      ]
     },
     "execution_count": 34,
     "metadata": {},
     "output_type": "execute_result"
    }
   ],
   "source": [
    "spark.sql(\"drop table week5_assignment_itv012676_2.groceries_itv012676_e\") #dropping external table"
   ]
  },
  {
   "cell_type": "code",
   "execution_count": 35,
   "id": "eb5f5d7d",
   "metadata": {},
   "outputs": [
    {
     "data": {
      "text/html": [
       "<table border='1'>\n",
       "<tr><th></th></tr>\n",
       "</table>\n"
      ],
      "text/plain": [
       "++\n",
       "||\n",
       "++\n",
       "++"
      ]
     },
     "execution_count": 35,
     "metadata": {},
     "output_type": "execute_result"
    }
   ],
   "source": [
    "spark.sql(\"drop table week5_assignment_itv012676_2.groceries_itv012676_m\") #dropping managed table"
   ]
  },
  {
   "cell_type": "markdown",
   "id": "9229cf80",
   "metadata": {},
   "source": [
    "### 2.1.Find the total number of products in the given dataset."
   ]
  },
  {
   "cell_type": "code",
   "execution_count": 36,
   "id": "712e0638",
   "metadata": {},
   "outputs": [],
   "source": [
    "products_df = spark.read \\\n",
    ".format(\"csv\") \\\n",
    ".option(\"header\",\"true\") \\\n",
    ".option(\"inferSchema\",\"true\") \\\n",
    ".load(\"products_data/products_updated.csv\")"
   ]
  },
  {
   "cell_type": "code",
   "execution_count": 37,
   "id": "c7840ace",
   "metadata": {},
   "outputs": [
    {
     "name": "stdout",
     "output_type": "stream",
     "text": [
      "+----------+--------+--------------------+-----------+------+--------------------+\n",
      "|product_id|category|        product_name|description| price|           image_url|\n",
      "+----------+--------+--------------------+-----------+------+--------------------+\n",
      "|         1|       2|Quest Q64 10 FT. ...|       null| 59.98|http://images.acm...|\n",
      "|         2|       2|Under Armour Men'...|       null|129.99|http://images.acm...|\n",
      "|         3|       2|Under Armour Men'...|       null| 89.99|http://images.acm...|\n",
      "|         4|       2|Under Armour Men'...|       null| 89.99|http://images.acm...|\n",
      "|         5|       2|Riddell Youth Rev...|       null|199.99|http://images.acm...|\n",
      "|         6|       2|Jordan Men's VI R...|       null|134.99|http://images.acm...|\n",
      "|         7|       2|Schutt Youth Recr...|       null| 99.99|http://images.acm...|\n",
      "|         8|       2|Nike Men's Vapor ...|       null|129.99|http://images.acm...|\n",
      "|         9|       2|Nike Adult Vapor ...|       null|  50.0|http://images.acm...|\n",
      "|        10|       2|Under Armour Men'...|       null|129.99|http://images.acm...|\n",
      "|        11|       2|Fitness Gear 300 ...|       null|209.99|http://images.acm...|\n",
      "|        12|       2|Under Armour Men'...|       null|139.99|http://images.acm...|\n",
      "|        13|       2|Under Armour Men'...|       null| 89.99|http://images.acm...|\n",
      "|        14|       2|Quik Shade Summit...|       null|199.99|http://images.acm...|\n",
      "|        15|       2|Under Armour Kids...|       null| 59.99|http://images.acm...|\n",
      "|        16|       2|Riddell Youth 360...|       null|299.99|http://images.acm...|\n",
      "|        17|       2|Under Armour Men'...|       null|129.99|http://images.acm...|\n",
      "|        18|       2|Reebok Men's Full...|       null| 29.97|http://images.acm...|\n",
      "|        19|       2|Nike Men's Finger...|       null|124.99|http://images.acm...|\n",
      "|        20|       2|Under Armour Men'...|       null|129.99|http://images.acm...|\n",
      "+----------+--------+--------------------+-----------+------+--------------------+\n",
      "only showing top 20 rows\n",
      "\n"
     ]
    }
   ],
   "source": [
    "products_df.show()"
   ]
  },
  {
   "cell_type": "code",
   "execution_count": 38,
   "id": "f73fa76a",
   "metadata": {},
   "outputs": [
    {
     "name": "stdout",
     "output_type": "stream",
     "text": [
      "1345\n"
     ]
    }
   ],
   "source": [
    "total_products = products_df.count()\n",
    "print(total_products)"
   ]
  },
  {
   "cell_type": "code",
   "execution_count": 41,
   "id": "e6f0c689",
   "metadata": {},
   "outputs": [
    {
     "data": {
      "text/html": [
       "<table border='1'>\n",
       "<tr><th></th></tr>\n",
       "</table>\n"
      ],
      "text/plain": [
       "++\n",
       "||\n",
       "++\n",
       "++"
      ]
     },
     "execution_count": 41,
     "metadata": {},
     "output_type": "execute_result"
    }
   ],
   "source": [
    "# spark.sql(\"drop table week5_assignment_itv012676.products_itv012676_m\")"
   ]
  },
  {
   "cell_type": "code",
   "execution_count": 42,
   "id": "c94e404c",
   "metadata": {},
   "outputs": [
    {
     "data": {
      "text/html": [
       "<table border='1'>\n",
       "<tr><th></th></tr>\n",
       "</table>\n"
      ],
      "text/plain": [
       "++\n",
       "||\n",
       "++\n",
       "++"
      ]
     },
     "execution_count": 42,
     "metadata": {},
     "output_type": "execute_result"
    }
   ],
   "source": [
    "spark.sql(\"create table week5_assignment_itv012676.products_itv012676_m(product_id integer, category integer,product_name string, description string, price float, image_url string)\")"
   ]
  },
  {
   "cell_type": "code",
   "execution_count": 43,
   "id": "c7f82e76",
   "metadata": {},
   "outputs": [],
   "source": [
    "products_df.createOrReplaceTempView(\"products_data\")"
   ]
  },
  {
   "cell_type": "code",
   "execution_count": 44,
   "id": "cf449338",
   "metadata": {},
   "outputs": [
    {
     "data": {
      "text/html": [
       "<table border='1'>\n",
       "<tr><th></th></tr>\n",
       "</table>\n"
      ],
      "text/plain": [
       "++\n",
       "||\n",
       "++\n",
       "++"
      ]
     },
     "execution_count": 44,
     "metadata": {},
     "output_type": "execute_result"
    }
   ],
   "source": [
    "spark.sql(\"insert into week5_assignment_itv012676.products_itv012676_m select * from products_data\")"
   ]
  },
  {
   "cell_type": "code",
   "execution_count": 45,
   "id": "cc9a6459",
   "metadata": {},
   "outputs": [
    {
     "name": "stdout",
     "output_type": "stream",
     "text": [
      "+----------+--------+---------------------------------------------+-----------+------+---------------------------------------------------------------------------------------+\n",
      "|product_id|category|product_name                                 |description|price |image_url                                                                              |\n",
      "+----------+--------+---------------------------------------------+-----------+------+---------------------------------------------------------------------------------------+\n",
      "|1         |2       |Quest Q64 10 FT. x 10 FT. Slant Leg Instant U|null       |59.98 |http://images.acmesports.sports/Quest+Q64+10+FT.+x+10+FT.+Slant+Leg+Instant+Up+Canopy  |\n",
      "|2         |2       |Under Armour Men's Highlight MC Football Clea|null       |129.99|http://images.acmesports.sports/Under+Armour+Men%27s+Highlight+MC+Football+Cleat       |\n",
      "|3         |2       |Under Armour Men's Renegade D Mid Football Cl|null       |89.99 |http://images.acmesports.sports/Under+Armour+Men%27s+Renegade+D+Mid+Football+Cleat     |\n",
      "|4         |2       |Under Armour Men's Renegade D Mid Football Cl|null       |89.99 |http://images.acmesports.sports/Under+Armour+Men%27s+Renegade+D+Mid+Football+Cleat     |\n",
      "|5         |2       |Riddell Youth Revolution Speed Custom Footbal|null       |199.99|http://images.acmesports.sports/Riddell+Youth+Revolution+Speed+Custom+Football+Helmet  |\n",
      "|6         |2       |Jordan Men's VI Retro TD Football Cleat      |null       |134.99|http://images.acmesports.sports/Jordan+Men%27s+VI+Retro+TD+Football+Cleat              |\n",
      "|7         |2       |Schutt Youth Recruit Hybrid Custom Football H|null       |99.99 |http://images.acmesports.sports/Schutt+Youth+Recruit+Hybrid+Custom+Football+Helmet+2014|\n",
      "|8         |2       |Nike Men's Vapor Carbon Elite TD Football Cle|null       |129.99|http://images.acmesports.sports/Nike+Men%27s+Vapor+Carbon+Elite+TD+Football+Cleat      |\n",
      "|9         |2       |Nike Adult Vapor Jet 3.0 Receiver Gloves     |null       |50.0  |http://images.acmesports.sports/Nike+Adult+Vapor+Jet+3.0+Receiver+Gloves               |\n",
      "|10        |2       |Under Armour Men's Highlight MC Football Clea|null       |129.99|http://images.acmesports.sports/Under+Armour+Men%27s+Highlight+MC+Football+Cleat       |\n",
      "+----------+--------+---------------------------------------------+-----------+------+---------------------------------------------------------------------------------------+\n",
      "only showing top 10 rows\n",
      "\n"
     ]
    }
   ],
   "source": [
    "spark.sql(\"select * from week5_assignment_itv012676.products_itv012676_m\").show(10,truncate=False)"
   ]
  },
  {
   "cell_type": "code",
   "execution_count": 46,
   "id": "9afbdfab",
   "metadata": {},
   "outputs": [
    {
     "data": {
      "text/html": [
       "<table border='1'>\n",
       "<tr><th>total_products</th></tr>\n",
       "<tr><td>1345</td></tr>\n",
       "</table>\n"
      ],
      "text/plain": [
       "+--------------+\n",
       "|total_products|\n",
       "+--------------+\n",
       "|          1345|\n",
       "+--------------+"
      ]
     },
     "execution_count": 46,
     "metadata": {},
     "output_type": "execute_result"
    }
   ],
   "source": [
    "spark.sql(\"select COUNT(*) as total_products from week5_assignment_itv012676.products_itv012676_m\")"
   ]
  },
  {
   "cell_type": "markdown",
   "id": "8670327d",
   "metadata": {},
   "source": [
    "### 2.2 Find the number of unique categories of products in the given dataset"
   ]
  },
  {
   "cell_type": "code",
   "execution_count": 47,
   "id": "05bf07df",
   "metadata": {},
   "outputs": [
    {
     "data": {
      "text/plain": [
       "55"
      ]
     },
     "execution_count": 47,
     "metadata": {},
     "output_type": "execute_result"
    }
   ],
   "source": [
    "unique_categories = products_df.select(\"category\").distinct().count()\n",
    "unique_categories"
   ]
  },
  {
   "cell_type": "code",
   "execution_count": 48,
   "id": "86ebea9c",
   "metadata": {},
   "outputs": [
    {
     "data": {
      "text/html": [
       "<table border='1'>\n",
       "<tr><th>distinct_categories</th></tr>\n",
       "<tr><td>55</td></tr>\n",
       "</table>\n"
      ],
      "text/plain": [
       "+-------------------+\n",
       "|distinct_categories|\n",
       "+-------------------+\n",
       "|                 55|\n",
       "+-------------------+"
      ]
     },
     "execution_count": 48,
     "metadata": {},
     "output_type": "execute_result"
    }
   ],
   "source": [
    "spark.sql(\"select  COUNT(distinct category) as distinct_categories from week5_assignment_itv012676.products_itv012676_m\")"
   ]
  },
  {
   "cell_type": "markdown",
   "id": "80558448",
   "metadata": {},
   "source": [
    "### 2.3 Find the top 5 most expensive products based on their price ,along with their product name,category,and imageURL"
   ]
  },
  {
   "cell_type": "code",
   "execution_count": 49,
   "id": "f4caf79a",
   "metadata": {},
   "outputs": [
    {
     "name": "stdout",
     "output_type": "stream",
     "text": [
      "+------------------------------------------------+--------+-------+-----------------------------------------------------------------------------------+\n",
      "|product_name                                    |category|price  |image_url                                                                          |\n",
      "+------------------------------------------------+--------+-------+-----------------------------------------------------------------------------------+\n",
      "|SOLE E35 Elliptical                             |10      |1999.99|http://images.acmesports.sports/SOLE+E35+Elliptical                                |\n",
      "|SOLE F85 Treadmill                              |4       |1799.99|http://images.acmesports.sports/SOLE+F85+Treadmill                                 |\n",
      "|SOLE F85 Treadmill                              |10      |1799.99|http://images.acmesports.sports/SOLE+F85+Treadmill                                 |\n",
      "|SOLE F85 Treadmill                              |22      |1799.99|http://images.acmesports.sports/SOLE+F85+Treadmill                                 |\n",
      "|\"Spalding Beast 60\"\" Glass Portable Basketball \"|47      |1099.99|http://images.acmesports.sports/Spalding+Beast+60%22+Glass+Portable+Basketball+Hoop|\n",
      "+------------------------------------------------+--------+-------+-----------------------------------------------------------------------------------+\n",
      "\n"
     ]
    }
   ],
   "source": [
    "top_5_expensive_products = products_df.select(\"product_name\",\"category\",\"price\",\"image_url\").orderBy(\"price\",ascending=False).limit(5)\n",
    "top_5_expensive_products.show(truncate=False)"
   ]
  },
  {
   "cell_type": "code",
   "execution_count": 50,
   "id": "ace9fd49",
   "metadata": {},
   "outputs": [
    {
     "name": "stdout",
     "output_type": "stream",
     "text": [
      "+------------------------------------------------+--------+-------+-----------------------------------------------------------------------------------+\n",
      "|product_name                                    |category|price  |image_url                                                                          |\n",
      "+------------------------------------------------+--------+-------+-----------------------------------------------------------------------------------+\n",
      "|SOLE E35 Elliptical                             |10      |1999.99|http://images.acmesports.sports/SOLE+E35+Elliptical                                |\n",
      "|SOLE F85 Treadmill                              |4       |1799.99|http://images.acmesports.sports/SOLE+F85+Treadmill                                 |\n",
      "|SOLE F85 Treadmill                              |10      |1799.99|http://images.acmesports.sports/SOLE+F85+Treadmill                                 |\n",
      "|SOLE F85 Treadmill                              |22      |1799.99|http://images.acmesports.sports/SOLE+F85+Treadmill                                 |\n",
      "|\"Spalding Beast 60\"\" Glass Portable Basketball \"|47      |1099.99|http://images.acmesports.sports/Spalding+Beast+60%22+Glass+Portable+Basketball+Hoop|\n",
      "+------------------------------------------------+--------+-------+-----------------------------------------------------------------------------------+\n",
      "\n"
     ]
    }
   ],
   "source": [
    "spark.sql(\"select product_name,category,price,image_url from week5_assignment_itv012676.products_itv012676_m ORDER BY price DESC limit 5\").show(truncate = False)"
   ]
  },
  {
   "cell_type": "markdown",
   "id": "e0c890bd",
   "metadata": {},
   "source": [
    "### 3.1 Find the total number of customers in each state."
   ]
  },
  {
   "cell_type": "code",
   "execution_count": 51,
   "id": "600661e0",
   "metadata": {},
   "outputs": [],
   "source": [
    "customers_df = spark.read \\\n",
    ".format(\"csv\") \\\n",
    ".option(\"header\",\"true\") \\\n",
    ".option(\"inferSchema\",\"true\") \\\n",
    ".load(\"/user/itv012676/customers_data/customers_updated.csv\")"
   ]
  },
  {
   "cell_type": "code",
   "execution_count": 52,
   "id": "d6a41750",
   "metadata": {},
   "outputs": [
    {
     "name": "stdout",
     "output_type": "stream",
     "text": [
      "+-----------+-------------------+------------------+--------------+-----------------+--------------------+-------------+--------------+----------------+\n",
      "|customer_id|customer_first_name|customer_last_name|customer_email|customer_password|     customer_street|customer_city|customer_state|customer_zipcode|\n",
      "+-----------+-------------------+------------------+--------------+-----------------+--------------------+-------------+--------------+----------------+\n",
      "|          1|            Richard|         Hernandez|     XXXXXXXXX|        XXXXXXXXX|  6303 Heather Plaza|  Brownsville|            TX|           78521|\n",
      "|          2|               Mary|           Barrett|     XXXXXXXXX|        XXXXXXXXX|9526 Noble Embers...|    Littleton|            CO|           80126|\n",
      "|          3|                Ann|             Smith|     XXXXXXXXX|        XXXXXXXXX|3422 Blue Pioneer...|       Caguas|            PR|             725|\n",
      "|          4|               Mary|             Jones|     XXXXXXXXX|        XXXXXXXXX|  8324 Little Common|   San Marcos|            CA|           92069|\n",
      "|          5|             Robert|            Hudson|     XXXXXXXXX|        XXXXXXXXX|10 Crystal River ...|       Caguas|            PR|             725|\n",
      "|          6|               Mary|             Smith|     XXXXXXXXX|        XXXXXXXXX|3151 Sleepy Quail...|      Passaic|            NJ|            7055|\n",
      "|          7|            Melissa|            Wilcox|     XXXXXXXXX|        XXXXXXXXX|9453 High Concession|       Caguas|            PR|             725|\n",
      "|          8|              Megan|             Smith|     XXXXXXXXX|        XXXXXXXXX|3047 Foggy Forest...|     Lawrence|            MA|            1841|\n",
      "|          9|               Mary|             Perez|     XXXXXXXXX|        XXXXXXXXX| 3616 Quaking Street|       Caguas|            PR|             725|\n",
      "|         10|            Melissa|             Smith|     XXXXXXXXX|        XXXXXXXXX|8598 Harvest Beac...|     Stafford|            VA|           22554|\n",
      "|         11|               Mary|           Huffman|     XXXXXXXXX|        XXXXXXXXX|    3169 Stony Woods|       Caguas|            PR|             725|\n",
      "|         12|        Christopher|             Smith|     XXXXXXXXX|        XXXXXXXXX|5594 Jagged Ember...|  San Antonio|            TX|           78227|\n",
      "|         13|               Mary|           Baldwin|     XXXXXXXXX|        XXXXXXXXX|7922 Iron Oak Gar...|       Caguas|            PR|             725|\n",
      "|         14|          Katherine|             Smith|     XXXXXXXXX|        XXXXXXXXX|5666 Hazy Pony Sq...|  Pico Rivera|            CA|           90660|\n",
      "|         15|               Jane|              Luna|     XXXXXXXXX|        XXXXXXXXX|    673 Burning Glen|      Fontana|            CA|           92336|\n",
      "|         16|            Tiffany|             Smith|     XXXXXXXXX|        XXXXXXXXX|      6651 Iron Port|       Caguas|            PR|             725|\n",
      "|         17|               Mary|          Robinson|     XXXXXXXXX|        XXXXXXXXX|     1325 Noble Pike|       Taylor|            MI|           48180|\n",
      "|         18|             Robert|             Smith|     XXXXXXXXX|        XXXXXXXXX|2734 Hazy Butterf...|     Martinez|            CA|           94553|\n",
      "|         19|          Stephanie|          Mitchell|     XXXXXXXXX|        XXXXXXXXX|3543 Red Treasure...|       Caguas|            PR|             725|\n",
      "|         20|               Mary|             Ellis|     XXXXXXXXX|        XXXXXXXXX|      4703 Old Route|West New York|            NJ|            7093|\n",
      "+-----------+-------------------+------------------+--------------+-----------------+--------------------+-------------+--------------+----------------+\n",
      "only showing top 20 rows\n",
      "\n"
     ]
    }
   ],
   "source": [
    "customers_df.show()"
   ]
  },
  {
   "cell_type": "code",
   "execution_count": 54,
   "id": "23c6fd7c",
   "metadata": {},
   "outputs": [
    {
     "name": "stdout",
     "output_type": "stream",
     "text": [
      "+-----------+-------------------+------------------+--------------+-----------------+---------------------------+-------------+--------------+----------------+\n",
      "|customer_id|customer_first_name|customer_last_name|customer_email|customer_password|customer_street            |customer_city|customer_state|customer_zipcode|\n",
      "+-----------+-------------------+------------------+--------------+-----------------+---------------------------+-------------+--------------+----------------+\n",
      "|1          |Richard            |Hernandez         |XXXXXXXXX     |XXXXXXXXX        |6303 Heather Plaza         |Brownsville  |TX            |78521           |\n",
      "|2          |Mary               |Barrett           |XXXXXXXXX     |XXXXXXXXX        |9526 Noble Embers Ridge    |Littleton    |CO            |80126           |\n",
      "|3          |Ann                |Smith             |XXXXXXXXX     |XXXXXXXXX        |3422 Blue Pioneer Bend     |Caguas       |PR            |725             |\n",
      "|4          |Mary               |Jones             |XXXXXXXXX     |XXXXXXXXX        |8324 Little Common         |San Marcos   |CA            |92069           |\n",
      "|5          |Robert             |Hudson            |XXXXXXXXX     |XXXXXXXXX        |10 Crystal River Mall      |Caguas       |PR            |725             |\n",
      "|6          |Mary               |Smith             |XXXXXXXXX     |XXXXXXXXX        |3151 Sleepy Quail Promenade|Passaic      |NJ            |7055            |\n",
      "|7          |Melissa            |Wilcox            |XXXXXXXXX     |XXXXXXXXX        |9453 High Concession       |Caguas       |PR            |725             |\n",
      "|8          |Megan              |Smith             |XXXXXXXXX     |XXXXXXXXX        |3047 Foggy Forest Plaza    |Lawrence     |MA            |1841            |\n",
      "|9          |Mary               |Perez             |XXXXXXXXX     |XXXXXXXXX        |3616 Quaking Street        |Caguas       |PR            |725             |\n",
      "|10         |Melissa            |Smith             |XXXXXXXXX     |XXXXXXXXX        |8598 Harvest Beacon Plaza  |Stafford     |VA            |22554           |\n",
      "+-----------+-------------------+------------------+--------------+-----------------+---------------------------+-------------+--------------+----------------+\n",
      "only showing top 10 rows\n",
      "\n"
     ]
    }
   ],
   "source": [
    "# spark.sql(\"drop table week5_assignment_itv012676.customers_itv012676_m\")\n",
    "spark.sql(\"create table week5_assignment_itv012676.customers_itv012676_m(customer_id integer, customer_first_name string, customer_last_name string, customer_email string, customer_password string, customer_street string, customer_city string, customer_state string, customer_zipcode integer)\")\n",
    "customers_df.createOrReplaceTempView(\"customers_data\")\n",
    "spark.sql(\"insert into week5_assignment_itv012676.customers_itv012676_m select * from customers_data\")\n",
    "spark.sql(\"select * from week5_assignment_itv012676.customers_itv012676_m\").show(10,truncate=False)"
   ]
  },
  {
   "cell_type": "code",
   "execution_count": 55,
   "id": "9a514a7c",
   "metadata": {},
   "outputs": [
    {
     "data": {
      "text/html": [
       "<table border='1'>\n",
       "<tr><th>customer_state</th><th>count</th></tr>\n",
       "<tr><td>AZ</td><td>213</td></tr>\n",
       "<tr><td>SC</td><td>41</td></tr>\n",
       "<tr><td>LA</td><td>63</td></tr>\n",
       "<tr><td>MN</td><td>39</td></tr>\n",
       "<tr><td>NJ</td><td>219</td></tr>\n",
       "<tr><td>DC</td><td>42</td></tr>\n",
       "<tr><td>OR</td><td>119</td></tr>\n",
       "<tr><td>VA</td><td>136</td></tr>\n",
       "<tr><td>RI</td><td>15</td></tr>\n",
       "<tr><td>KY</td><td>35</td></tr>\n",
       "<tr><td>MI</td><td>254</td></tr>\n",
       "<tr><td>NV</td><td>103</td></tr>\n",
       "<tr><td>WI</td><td>64</td></tr>\n",
       "<tr><td>ID</td><td>9</td></tr>\n",
       "<tr><td>CA</td><td>2012</td></tr>\n",
       "<tr><td>CT</td><td>73</td></tr>\n",
       "<tr><td>MT</td><td>7</td></tr>\n",
       "<tr><td>NC</td><td>150</td></tr>\n",
       "<tr><td>MD</td><td>164</td></tr>\n",
       "<tr><td>DE</td><td>23</td></tr>\n",
       "</table>\n",
       "only showing top 20 rows\n"
      ],
      "text/plain": [
       "+--------------+-----+\n",
       "|customer_state|count|\n",
       "+--------------+-----+\n",
       "|            AZ|  213|\n",
       "|            SC|   41|\n",
       "|            LA|   63|\n",
       "|            MN|   39|\n",
       "|            NJ|  219|\n",
       "|            DC|   42|\n",
       "|            OR|  119|\n",
       "|            VA|  136|\n",
       "|            RI|   15|\n",
       "|            KY|   35|\n",
       "|            MI|  254|\n",
       "|            NV|  103|\n",
       "|            WI|   64|\n",
       "|            ID|    9|\n",
       "|            CA| 2012|\n",
       "|            CT|   73|\n",
       "|            MT|    7|\n",
       "|            NC|  150|\n",
       "|            MD|  164|\n",
       "|            DE|   23|\n",
       "+--------------+-----+\n",
       "only showing top 20 rows"
      ]
     },
     "execution_count": 55,
     "metadata": {},
     "output_type": "execute_result"
    }
   ],
   "source": [
    "customers_df.groupBy(\"customer_state\").count()"
   ]
  },
  {
   "cell_type": "code",
   "execution_count": 56,
   "id": "8c9a853c",
   "metadata": {},
   "outputs": [
    {
     "data": {
      "text/html": [
       "<table border='1'>\n",
       "<tr><th>customer_state</th><th>count</th></tr>\n",
       "<tr><td>AZ</td><td>213</td></tr>\n",
       "<tr><td>SC</td><td>41</td></tr>\n",
       "<tr><td>LA</td><td>63</td></tr>\n",
       "<tr><td>MN</td><td>39</td></tr>\n",
       "<tr><td>NJ</td><td>219</td></tr>\n",
       "<tr><td>DC</td><td>42</td></tr>\n",
       "<tr><td>OR</td><td>119</td></tr>\n",
       "<tr><td>VA</td><td>136</td></tr>\n",
       "<tr><td>RI</td><td>15</td></tr>\n",
       "<tr><td>KY</td><td>35</td></tr>\n",
       "<tr><td>MI</td><td>254</td></tr>\n",
       "<tr><td>NV</td><td>103</td></tr>\n",
       "<tr><td>WI</td><td>64</td></tr>\n",
       "<tr><td>ID</td><td>9</td></tr>\n",
       "<tr><td>CA</td><td>2012</td></tr>\n",
       "<tr><td>CT</td><td>73</td></tr>\n",
       "<tr><td>MT</td><td>7</td></tr>\n",
       "<tr><td>NC</td><td>150</td></tr>\n",
       "<tr><td>MD</td><td>164</td></tr>\n",
       "<tr><td>DE</td><td>23</td></tr>\n",
       "</table>\n",
       "only showing top 20 rows\n"
      ],
      "text/plain": [
       "+--------------+-----+\n",
       "|customer_state|count|\n",
       "+--------------+-----+\n",
       "|            AZ|  213|\n",
       "|            SC|   41|\n",
       "|            LA|   63|\n",
       "|            MN|   39|\n",
       "|            NJ|  219|\n",
       "|            DC|   42|\n",
       "|            OR|  119|\n",
       "|            VA|  136|\n",
       "|            RI|   15|\n",
       "|            KY|   35|\n",
       "|            MI|  254|\n",
       "|            NV|  103|\n",
       "|            WI|   64|\n",
       "|            ID|    9|\n",
       "|            CA| 2012|\n",
       "|            CT|   73|\n",
       "|            MT|    7|\n",
       "|            NC|  150|\n",
       "|            MD|  164|\n",
       "|            DE|   23|\n",
       "+--------------+-----+\n",
       "only showing top 20 rows"
      ]
     },
     "execution_count": 56,
     "metadata": {},
     "output_type": "execute_result"
    }
   ],
   "source": [
    "spark.sql(\"select customer_state,count(*) as count from week5_assignment_itv012676.customers_itv012676_m GROUP BY customer_state\")"
   ]
  },
  {
   "cell_type": "markdown",
   "id": "619096d8",
   "metadata": {},
   "source": [
    "### 3.2 Find the top 5 most common last names among the customers."
   ]
  },
  {
   "cell_type": "code",
   "execution_count": 57,
   "id": "9dcaa447",
   "metadata": {},
   "outputs": [
    {
     "name": "stdout",
     "output_type": "stream",
     "text": [
      "+------------------+-----+\n",
      "|customer_last_name|count|\n",
      "+------------------+-----+\n",
      "|             Smith| 4626|\n",
      "|           Johnson|   76|\n",
      "|          Williams|   69|\n",
      "|             Jones|   65|\n",
      "|             Brown|   62|\n",
      "+------------------+-----+\n",
      "only showing top 5 rows\n",
      "\n"
     ]
    }
   ],
   "source": [
    "customers_df.select(\"customer_last_name\").groupBy(\"customer_last_name\").count().orderBy(\"count\",ascending=False).show(5)"
   ]
  },
  {
   "cell_type": "code",
   "execution_count": 59,
   "id": "05e96af2",
   "metadata": {},
   "outputs": [
    {
     "data": {
      "text/html": [
       "<table border='1'>\n",
       "<tr><th>customer_last_name</th><th>count</th></tr>\n",
       "<tr><td>Smith</td><td>4626</td></tr>\n",
       "<tr><td>Johnson</td><td>76</td></tr>\n",
       "<tr><td>Williams</td><td>69</td></tr>\n",
       "<tr><td>Jones</td><td>65</td></tr>\n",
       "<tr><td>Brown</td><td>62</td></tr>\n",
       "</table>\n"
      ],
      "text/plain": [
       "+------------------+-----+\n",
       "|customer_last_name|count|\n",
       "+------------------+-----+\n",
       "|             Smith| 4626|\n",
       "|           Johnson|   76|\n",
       "|          Williams|   69|\n",
       "|             Jones|   65|\n",
       "|             Brown|   62|\n",
       "+------------------+-----+"
      ]
     },
     "execution_count": 59,
     "metadata": {},
     "output_type": "execute_result"
    }
   ],
   "source": [
    "spark.sql(\"select customer_last_name,count(*) as count from week5_assignment_itv012676.customers_itv012676_m GROUP BY customer_last_name ORDER BY count DESC LIMIT 5\")"
   ]
  },
  {
   "cell_type": "markdown",
   "id": "6962a199",
   "metadata": {},
   "source": [
    "### 3.3 Check whether there are any customers whose zip codes are not valid (i.e., not equal to 5 digits)."
   ]
  },
  {
   "cell_type": "code",
   "execution_count": 75,
   "id": "babd939a",
   "metadata": {},
   "outputs": [
    {
     "name": "stdout",
     "output_type": "stream",
     "text": [
      "These are the customers with invalid zip codes \n",
      "+-----------+-------------------+------------------+--------------+-----------------+--------------------+-------------+--------------+----------------+\n",
      "|customer_id|customer_first_name|customer_last_name|customer_email|customer_password|     customer_street|customer_city|customer_state|customer_zipcode|\n",
      "+-----------+-------------------+------------------+--------------+-----------------+--------------------+-------------+--------------+----------------+\n",
      "|          3|                Ann|             Smith|     XXXXXXXXX|        XXXXXXXXX|3422 Blue Pioneer...|       Caguas|            PR|             725|\n",
      "|          5|             Robert|            Hudson|     XXXXXXXXX|        XXXXXXXXX|10 Crystal River ...|       Caguas|            PR|             725|\n",
      "|          6|               Mary|             Smith|     XXXXXXXXX|        XXXXXXXXX|3151 Sleepy Quail...|      Passaic|            NJ|            7055|\n",
      "|          7|            Melissa|            Wilcox|     XXXXXXXXX|        XXXXXXXXX|9453 High Concession|       Caguas|            PR|             725|\n",
      "|          8|              Megan|             Smith|     XXXXXXXXX|        XXXXXXXXX|3047 Foggy Forest...|     Lawrence|            MA|            1841|\n",
      "|          9|               Mary|             Perez|     XXXXXXXXX|        XXXXXXXXX| 3616 Quaking Street|       Caguas|            PR|             725|\n",
      "|         11|               Mary|           Huffman|     XXXXXXXXX|        XXXXXXXXX|    3169 Stony Woods|       Caguas|            PR|             725|\n",
      "|         13|               Mary|           Baldwin|     XXXXXXXXX|        XXXXXXXXX|7922 Iron Oak Gar...|       Caguas|            PR|             725|\n",
      "|         16|            Tiffany|             Smith|     XXXXXXXXX|        XXXXXXXXX|      6651 Iron Port|       Caguas|            PR|             725|\n",
      "|         19|          Stephanie|          Mitchell|     XXXXXXXXX|        XXXXXXXXX|3543 Red Treasure...|       Caguas|            PR|             725|\n",
      "|         20|               Mary|             Ellis|     XXXXXXXXX|        XXXXXXXXX|      4703 Old Route|West New York|            NJ|            7093|\n",
      "|         21|            William|         Zimmerman|     XXXXXXXXX|        XXXXXXXXX|3323 Old Willow M...|       Caguas|            PR|             725|\n",
      "|         22|             Joseph|             Smith|     XXXXXXXXX|        XXXXXXXXX|7740 Broad Fox Vi...| North Bergen|            NJ|            7047|\n",
      "|         23|           Benjamin|            Duarte|     XXXXXXXXX|        XXXXXXXXX|8811 High Horse I...|     San Juan|            PR|             921|\n",
      "|         24|               Mary|             Smith|     XXXXXXXXX|        XXXXXXXXX| 9417 Emerald Towers|       Caguas|            PR|             725|\n",
      "|         27|               Mary|           Vincent|     XXXXXXXXX|        XXXXXXXXX|1768 Sleepy Zephy...|       Caguas|            PR|             725|\n",
      "|         30|            Barbara|             Smith|     XXXXXXXXX|        XXXXXXXXX|   2455 Merry Hollow|       Caguas|            PR|             725|\n",
      "|         32|              Alice|             Smith|     XXXXXXXXX|        XXXXXXXXX|   2082 Hidden Green|       Caguas|            PR|             725|\n",
      "|         34|               Mary|             Smith|     XXXXXXXXX|        XXXXXXXXX|3330 Easy Berry R...|       Caguas|            PR|             725|\n",
      "|         36|           Michelle|             Carey|     XXXXXXXXX|        XXXXXXXXX| 6336 Fallen Village|       Caguas|            PR|             725|\n",
      "+-----------+-------------------+------------------+--------------+-----------------+--------------------+-------------+--------------+----------------+\n",
      "only showing top 20 rows\n",
      "\n"
     ]
    }
   ],
   "source": [
    "from pyspark.sql.functions import length\n",
    "invalid_zipcodes = customers_df.filter(length(\"customer_zipcode\")!=5)\n",
    "if invalid_zipcodes.count() == 0:\n",
    "    print(\"There are no customers with invalid zip codes...\")\n",
    "else:\n",
    "    print(\"These are the customers with invalid zip codes \")\n",
    "    invalid_zipcodes.show()"
   ]
  },
  {
   "cell_type": "code",
   "execution_count": 76,
   "id": "55a52403",
   "metadata": {},
   "outputs": [
    {
     "data": {
      "text/html": [
       "<table border='1'>\n",
       "<tr><th>customer_id</th><th>customer_first_name</th><th>customer_last_name</th><th>customer_email</th><th>customer_password</th><th>customer_street</th><th>customer_city</th><th>customer_state</th><th>customer_zipcode</th></tr>\n",
       "<tr><td>3</td><td>Ann</td><td>Smith</td><td>XXXXXXXXX</td><td>XXXXXXXXX</td><td>3422 Blue Pioneer...</td><td>Caguas</td><td>PR</td><td>725</td></tr>\n",
       "<tr><td>5</td><td>Robert</td><td>Hudson</td><td>XXXXXXXXX</td><td>XXXXXXXXX</td><td>10 Crystal River ...</td><td>Caguas</td><td>PR</td><td>725</td></tr>\n",
       "<tr><td>6</td><td>Mary</td><td>Smith</td><td>XXXXXXXXX</td><td>XXXXXXXXX</td><td>3151 Sleepy Quail...</td><td>Passaic</td><td>NJ</td><td>7055</td></tr>\n",
       "<tr><td>7</td><td>Melissa</td><td>Wilcox</td><td>XXXXXXXXX</td><td>XXXXXXXXX</td><td>9453 High Concession</td><td>Caguas</td><td>PR</td><td>725</td></tr>\n",
       "<tr><td>8</td><td>Megan</td><td>Smith</td><td>XXXXXXXXX</td><td>XXXXXXXXX</td><td>3047 Foggy Forest...</td><td>Lawrence</td><td>MA</td><td>1841</td></tr>\n",
       "<tr><td>9</td><td>Mary</td><td>Perez</td><td>XXXXXXXXX</td><td>XXXXXXXXX</td><td>3616 Quaking Street</td><td>Caguas</td><td>PR</td><td>725</td></tr>\n",
       "<tr><td>11</td><td>Mary</td><td>Huffman</td><td>XXXXXXXXX</td><td>XXXXXXXXX</td><td>3169 Stony Woods</td><td>Caguas</td><td>PR</td><td>725</td></tr>\n",
       "<tr><td>13</td><td>Mary</td><td>Baldwin</td><td>XXXXXXXXX</td><td>XXXXXXXXX</td><td>7922 Iron Oak Gar...</td><td>Caguas</td><td>PR</td><td>725</td></tr>\n",
       "<tr><td>16</td><td>Tiffany</td><td>Smith</td><td>XXXXXXXXX</td><td>XXXXXXXXX</td><td>6651 Iron Port</td><td>Caguas</td><td>PR</td><td>725</td></tr>\n",
       "<tr><td>19</td><td>Stephanie</td><td>Mitchell</td><td>XXXXXXXXX</td><td>XXXXXXXXX</td><td>3543 Red Treasure...</td><td>Caguas</td><td>PR</td><td>725</td></tr>\n",
       "<tr><td>20</td><td>Mary</td><td>Ellis</td><td>XXXXXXXXX</td><td>XXXXXXXXX</td><td>4703 Old Route</td><td>West New York</td><td>NJ</td><td>7093</td></tr>\n",
       "<tr><td>21</td><td>William</td><td>Zimmerman</td><td>XXXXXXXXX</td><td>XXXXXXXXX</td><td>3323 Old Willow M...</td><td>Caguas</td><td>PR</td><td>725</td></tr>\n",
       "<tr><td>22</td><td>Joseph</td><td>Smith</td><td>XXXXXXXXX</td><td>XXXXXXXXX</td><td>7740 Broad Fox Vi...</td><td>North Bergen</td><td>NJ</td><td>7047</td></tr>\n",
       "<tr><td>23</td><td>Benjamin</td><td>Duarte</td><td>XXXXXXXXX</td><td>XXXXXXXXX</td><td>8811 High Horse I...</td><td>San Juan</td><td>PR</td><td>921</td></tr>\n",
       "<tr><td>24</td><td>Mary</td><td>Smith</td><td>XXXXXXXXX</td><td>XXXXXXXXX</td><td>9417 Emerald Towers</td><td>Caguas</td><td>PR</td><td>725</td></tr>\n",
       "<tr><td>27</td><td>Mary</td><td>Vincent</td><td>XXXXXXXXX</td><td>XXXXXXXXX</td><td>1768 Sleepy Zephy...</td><td>Caguas</td><td>PR</td><td>725</td></tr>\n",
       "<tr><td>30</td><td>Barbara</td><td>Smith</td><td>XXXXXXXXX</td><td>XXXXXXXXX</td><td>2455 Merry Hollow</td><td>Caguas</td><td>PR</td><td>725</td></tr>\n",
       "<tr><td>32</td><td>Alice</td><td>Smith</td><td>XXXXXXXXX</td><td>XXXXXXXXX</td><td>2082 Hidden Green</td><td>Caguas</td><td>PR</td><td>725</td></tr>\n",
       "<tr><td>34</td><td>Mary</td><td>Smith</td><td>XXXXXXXXX</td><td>XXXXXXXXX</td><td>3330 Easy Berry R...</td><td>Caguas</td><td>PR</td><td>725</td></tr>\n",
       "<tr><td>36</td><td>Michelle</td><td>Carey</td><td>XXXXXXXXX</td><td>XXXXXXXXX</td><td>6336 Fallen Village</td><td>Caguas</td><td>PR</td><td>725</td></tr>\n",
       "</table>\n",
       "only showing top 20 rows\n"
      ],
      "text/plain": [
       "+-----------+-------------------+------------------+--------------+-----------------+--------------------+-------------+--------------+----------------+\n",
       "|customer_id|customer_first_name|customer_last_name|customer_email|customer_password|     customer_street|customer_city|customer_state|customer_zipcode|\n",
       "+-----------+-------------------+------------------+--------------+-----------------+--------------------+-------------+--------------+----------------+\n",
       "|          3|                Ann|             Smith|     XXXXXXXXX|        XXXXXXXXX|3422 Blue Pioneer...|       Caguas|            PR|             725|\n",
       "|          5|             Robert|            Hudson|     XXXXXXXXX|        XXXXXXXXX|10 Crystal River ...|       Caguas|            PR|             725|\n",
       "|          6|               Mary|             Smith|     XXXXXXXXX|        XXXXXXXXX|3151 Sleepy Quail...|      Passaic|            NJ|            7055|\n",
       "|          7|            Melissa|            Wilcox|     XXXXXXXXX|        XXXXXXXXX|9453 High Concession|       Caguas|            PR|             725|\n",
       "|          8|              Megan|             Smith|     XXXXXXXXX|        XXXXXXXXX|3047 Foggy Forest...|     Lawrence|            MA|            1841|\n",
       "|          9|               Mary|             Perez|     XXXXXXXXX|        XXXXXXXXX| 3616 Quaking Street|       Caguas|            PR|             725|\n",
       "|         11|               Mary|           Huffman|     XXXXXXXXX|        XXXXXXXXX|    3169 Stony Woods|       Caguas|            PR|             725|\n",
       "|         13|               Mary|           Baldwin|     XXXXXXXXX|        XXXXXXXXX|7922 Iron Oak Gar...|       Caguas|            PR|             725|\n",
       "|         16|            Tiffany|             Smith|     XXXXXXXXX|        XXXXXXXXX|      6651 Iron Port|       Caguas|            PR|             725|\n",
       "|         19|          Stephanie|          Mitchell|     XXXXXXXXX|        XXXXXXXXX|3543 Red Treasure...|       Caguas|            PR|             725|\n",
       "|         20|               Mary|             Ellis|     XXXXXXXXX|        XXXXXXXXX|      4703 Old Route|West New York|            NJ|            7093|\n",
       "|         21|            William|         Zimmerman|     XXXXXXXXX|        XXXXXXXXX|3323 Old Willow M...|       Caguas|            PR|             725|\n",
       "|         22|             Joseph|             Smith|     XXXXXXXXX|        XXXXXXXXX|7740 Broad Fox Vi...| North Bergen|            NJ|            7047|\n",
       "|         23|           Benjamin|            Duarte|     XXXXXXXXX|        XXXXXXXXX|8811 High Horse I...|     San Juan|            PR|             921|\n",
       "|         24|               Mary|             Smith|     XXXXXXXXX|        XXXXXXXXX| 9417 Emerald Towers|       Caguas|            PR|             725|\n",
       "|         27|               Mary|           Vincent|     XXXXXXXXX|        XXXXXXXXX|1768 Sleepy Zephy...|       Caguas|            PR|             725|\n",
       "|         30|            Barbara|             Smith|     XXXXXXXXX|        XXXXXXXXX|   2455 Merry Hollow|       Caguas|            PR|             725|\n",
       "|         32|              Alice|             Smith|     XXXXXXXXX|        XXXXXXXXX|   2082 Hidden Green|       Caguas|            PR|             725|\n",
       "|         34|               Mary|             Smith|     XXXXXXXXX|        XXXXXXXXX|3330 Easy Berry R...|       Caguas|            PR|             725|\n",
       "|         36|           Michelle|             Carey|     XXXXXXXXX|        XXXXXXXXX| 6336 Fallen Village|       Caguas|            PR|             725|\n",
       "+-----------+-------------------+------------------+--------------+-----------------+--------------------+-------------+--------------+----------------+\n",
       "only showing top 20 rows"
      ]
     },
     "execution_count": 76,
     "metadata": {},
     "output_type": "execute_result"
    }
   ],
   "source": [
    "spark.sql(\"Select * from week5_assignment_itv012676.customers_itv012676_m where LENGTH(customer_zipcode)!=5 \")"
   ]
  },
  {
   "cell_type": "markdown",
   "id": "582b00f7",
   "metadata": {},
   "source": [
    "### 3.4 Count the number of customers who have valid zip codes."
   ]
  },
  {
   "cell_type": "code",
   "execution_count": 77,
   "id": "ac167e82",
   "metadata": {},
   "outputs": [
    {
     "data": {
      "text/plain": [
       "7244"
      ]
     },
     "execution_count": 77,
     "metadata": {},
     "output_type": "execute_result"
    }
   ],
   "source": [
    "customers_df.filter(length(\"customer_zipcode\")==5).count()"
   ]
  },
  {
   "cell_type": "code",
   "execution_count": 80,
   "id": "f8a969a6",
   "metadata": {},
   "outputs": [
    {
     "data": {
      "text/html": [
       "<table border='1'>\n",
       "<tr><th>valid_zipcodes_count</th></tr>\n",
       "<tr><td>7244</td></tr>\n",
       "</table>\n"
      ],
      "text/plain": [
       "+--------------------+\n",
       "|valid_zipcodes_count|\n",
       "+--------------------+\n",
       "|                7244|\n",
       "+--------------------+"
      ]
     },
     "execution_count": 80,
     "metadata": {},
     "output_type": "execute_result"
    }
   ],
   "source": [
    "spark.sql(\"select count(*) as valid_zipcodes_count from week5_assignment_itv012676.customers_itv012676_m WHERE LENGTH(customer_zipcode)==5\")"
   ]
  },
  {
   "cell_type": "markdown",
   "id": "c5368800",
   "metadata": {},
   "source": [
    "### 3.5 Find the number of customers from each city in the state of California(CA)."
   ]
  },
  {
   "cell_type": "code",
   "execution_count": 83,
   "id": "1547ec45",
   "metadata": {},
   "outputs": [
    {
     "data": {
      "text/html": [
       "<table border='1'>\n",
       "<tr><th>customer_city</th><th>count</th></tr>\n",
       "<tr><td>Corona</td><td>14</td></tr>\n",
       "<tr><td>Pittsburg</td><td>4</td></tr>\n",
       "<tr><td>Compton</td><td>19</td></tr>\n",
       "<tr><td>Palo Alto</td><td>6</td></tr>\n",
       "<tr><td>Hanford</td><td>9</td></tr>\n",
       "<tr><td>Anaheim</td><td>19</td></tr>\n",
       "<tr><td>Folsom</td><td>6</td></tr>\n",
       "<tr><td>Napa</td><td>8</td></tr>\n",
       "<tr><td>Temecula</td><td>6</td></tr>\n",
       "<tr><td>Reseda</td><td>6</td></tr>\n",
       "<tr><td>Encinitas</td><td>17</td></tr>\n",
       "<tr><td>Oceanside</td><td>24</td></tr>\n",
       "<tr><td>Cupertino</td><td>9</td></tr>\n",
       "<tr><td>Oakland</td><td>3</td></tr>\n",
       "<tr><td>Davis</td><td>9</td></tr>\n",
       "<tr><td>Fontana</td><td>18</td></tr>\n",
       "<tr><td>Mission Viejo</td><td>26</td></tr>\n",
       "<tr><td>Madera</td><td>5</td></tr>\n",
       "<tr><td>Elk Grove</td><td>10</td></tr>\n",
       "<tr><td>Bakersfield</td><td>41</td></tr>\n",
       "</table>\n",
       "only showing top 20 rows\n"
      ],
      "text/plain": [
       "+-------------+-----+\n",
       "|customer_city|count|\n",
       "+-------------+-----+\n",
       "|       Corona|   14|\n",
       "|    Pittsburg|    4|\n",
       "|      Compton|   19|\n",
       "|    Palo Alto|    6|\n",
       "|      Hanford|    9|\n",
       "|      Anaheim|   19|\n",
       "|       Folsom|    6|\n",
       "|         Napa|    8|\n",
       "|     Temecula|    6|\n",
       "|       Reseda|    6|\n",
       "|    Encinitas|   17|\n",
       "|    Oceanside|   24|\n",
       "|    Cupertino|    9|\n",
       "|      Oakland|    3|\n",
       "|        Davis|    9|\n",
       "|      Fontana|   18|\n",
       "|Mission Viejo|   26|\n",
       "|       Madera|    5|\n",
       "|    Elk Grove|   10|\n",
       "|  Bakersfield|   41|\n",
       "+-------------+-----+\n",
       "only showing top 20 rows"
      ]
     },
     "execution_count": 83,
     "metadata": {},
     "output_type": "execute_result"
    }
   ],
   "source": [
    "customers_df.filter(\"customer_state == 'CA'\").groupBy(\"customer_city\").count()"
   ]
  },
  {
   "cell_type": "code",
   "execution_count": 85,
   "id": "af50eb7e",
   "metadata": {},
   "outputs": [
    {
     "data": {
      "text/html": [
       "<table border='1'>\n",
       "<tr><th>customer_city</th><th>count</th></tr>\n",
       "<tr><td>Corona</td><td>14</td></tr>\n",
       "<tr><td>Pittsburg</td><td>4</td></tr>\n",
       "<tr><td>Compton</td><td>19</td></tr>\n",
       "<tr><td>Palo Alto</td><td>6</td></tr>\n",
       "<tr><td>Hanford</td><td>9</td></tr>\n",
       "<tr><td>Anaheim</td><td>19</td></tr>\n",
       "<tr><td>Folsom</td><td>6</td></tr>\n",
       "<tr><td>Napa</td><td>8</td></tr>\n",
       "<tr><td>Temecula</td><td>6</td></tr>\n",
       "<tr><td>Reseda</td><td>6</td></tr>\n",
       "<tr><td>Encinitas</td><td>17</td></tr>\n",
       "<tr><td>Oceanside</td><td>24</td></tr>\n",
       "<tr><td>Cupertino</td><td>9</td></tr>\n",
       "<tr><td>Oakland</td><td>3</td></tr>\n",
       "<tr><td>Davis</td><td>9</td></tr>\n",
       "<tr><td>Fontana</td><td>18</td></tr>\n",
       "<tr><td>Mission Viejo</td><td>26</td></tr>\n",
       "<tr><td>Madera</td><td>5</td></tr>\n",
       "<tr><td>Elk Grove</td><td>10</td></tr>\n",
       "<tr><td>Bakersfield</td><td>41</td></tr>\n",
       "</table>\n",
       "only showing top 20 rows\n"
      ],
      "text/plain": [
       "+-------------+-----+\n",
       "|customer_city|count|\n",
       "+-------------+-----+\n",
       "|       Corona|   14|\n",
       "|    Pittsburg|    4|\n",
       "|      Compton|   19|\n",
       "|    Palo Alto|    6|\n",
       "|      Hanford|    9|\n",
       "|      Anaheim|   19|\n",
       "|       Folsom|    6|\n",
       "|         Napa|    8|\n",
       "|     Temecula|    6|\n",
       "|       Reseda|    6|\n",
       "|    Encinitas|   17|\n",
       "|    Oceanside|   24|\n",
       "|    Cupertino|    9|\n",
       "|      Oakland|    3|\n",
       "|        Davis|    9|\n",
       "|      Fontana|   18|\n",
       "|Mission Viejo|   26|\n",
       "|       Madera|    5|\n",
       "|    Elk Grove|   10|\n",
       "|  Bakersfield|   41|\n",
       "+-------------+-----+\n",
       "only showing top 20 rows"
      ]
     },
     "execution_count": 85,
     "metadata": {},
     "output_type": "execute_result"
    }
   ],
   "source": [
    "spark.sql(\"select customer_city,count(*) as count from week5_assignment_itv012676.customers_itv012676_m WHERE customer_state == 'CA' GROUP BY customer_city\")"
   ]
  },
  {
   "cell_type": "code",
   "execution_count": null,
   "id": "617cefff",
   "metadata": {},
   "outputs": [],
   "source": []
  }
 ],
 "metadata": {
  "kernelspec": {
   "display_name": "Pyspark 3",
   "language": "python",
   "name": "pyspark3"
  },
  "language_info": {
   "codemirror_mode": {
    "name": "ipython",
    "version": 3
   },
   "file_extension": ".py",
   "mimetype": "text/x-python",
   "name": "python",
   "nbconvert_exporter": "python",
   "pygments_lexer": "ipython3",
   "version": "3.6.12"
  }
 },
 "nbformat": 4,
 "nbformat_minor": 5
}
