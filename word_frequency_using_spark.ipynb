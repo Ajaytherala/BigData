{
 "cells": [
  {
   "cell_type": "code",
   "execution_count": 1,
   "id": "ce91aed7",
   "metadata": {},
   "outputs": [],
   "source": [
    "from pyspark.sql import SparkSession\n",
    "import getpass\n",
    "username = getpass.getuser()\n",
    "spark = SparkSession.\\\n",
    "builder.\\\n",
    "config('spark.ui.port','0').\\\n",
    "config(\"spark.sql.warehouse.dir\",f\"/user/itv012676/warehouse\").\\\n",
    "enableHiveSupport().\\\n",
    "master('yarn').\\\n",
    "getOrCreate()\n"
   ]
  },
  {
   "cell_type": "code",
   "execution_count": 2,
   "id": "cf0e0d71",
   "metadata": {},
   "outputs": [
    {
     "data": {
      "text/html": [
       "\n",
       "            <div>\n",
       "                <p><b>SparkSession - hive</b></p>\n",
       "                \n",
       "        <div>\n",
       "            <p><b>SparkContext</b></p>\n",
       "\n",
       "            <p><a href=\"http://g02.itversity.com:41497\">Spark UI</a></p>\n",
       "\n",
       "            <dl>\n",
       "              <dt>Version</dt>\n",
       "                <dd><code>v3.1.2</code></dd>\n",
       "              <dt>Master</dt>\n",
       "                <dd><code>yarn</code></dd>\n",
       "              <dt>AppName</dt>\n",
       "                <dd><code>pyspark-shell</code></dd>\n",
       "            </dl>\n",
       "        </div>\n",
       "        \n",
       "            </div>\n",
       "        "
      ],
      "text/plain": [
       "<pyspark.sql.session.SparkSession at 0x7f61011e1dd8>"
      ]
     },
     "execution_count": 2,
     "metadata": {},
     "output_type": "execute_result"
    }
   ],
   "source": [
    "spark"
   ]
  },
  {
   "cell_type": "code",
   "execution_count": 8,
   "id": "3f7c8087",
   "metadata": {},
   "outputs": [],
   "source": [
    "words = (\"big\",\"Data\",\"is\",\"A\",\"trending\",\"Technology\",\"big\",\"Data\",\"is\",\"quite\",\"challenging\")"
   ]
  },
  {
   "cell_type": "code",
   "execution_count": 9,
   "id": "fcc7f7dc",
   "metadata": {},
   "outputs": [],
   "source": [
    "words_rdd = spark.sparkContext.parallelize(words)"
   ]
  },
  {
   "cell_type": "code",
   "execution_count": 10,
   "id": "5b9a1415",
   "metadata": {},
   "outputs": [],
   "source": [
    "words_normalized = words_rdd.map(lambda x: x.lower())"
   ]
  },
  {
   "cell_type": "code",
   "execution_count": 11,
   "id": "52fa0760",
   "metadata": {},
   "outputs": [
    {
     "data": {
      "text/plain": [
       "['big',\n",
       " 'data',\n",
       " 'is',\n",
       " 'a',\n",
       " 'trending',\n",
       " 'technology',\n",
       " 'big',\n",
       " 'data',\n",
       " 'is',\n",
       " 'quite',\n",
       " 'challenging']"
      ]
     },
     "execution_count": 11,
     "metadata": {},
     "output_type": "execute_result"
    }
   ],
   "source": [
    "words_normalized.collect()"
   ]
  },
  {
   "cell_type": "code",
   "execution_count": 12,
   "id": "4050071a",
   "metadata": {},
   "outputs": [],
   "source": [
    "mapped_words = words_normalized.map(lambda x: (x,1))"
   ]
  },
  {
   "cell_type": "code",
   "execution_count": 13,
   "id": "ab716613",
   "metadata": {},
   "outputs": [
    {
     "data": {
      "text/plain": [
       "[('big', 1),\n",
       " ('data', 1),\n",
       " ('is', 1),\n",
       " ('a', 1),\n",
       " ('trending', 1),\n",
       " ('technology', 1),\n",
       " ('big', 1),\n",
       " ('data', 1),\n",
       " ('is', 1),\n",
       " ('quite', 1),\n",
       " ('challenging', 1)]"
      ]
     },
     "execution_count": 13,
     "metadata": {},
     "output_type": "execute_result"
    }
   ],
   "source": [
    "mapped_words.collect()"
   ]
  },
  {
   "cell_type": "code",
   "execution_count": 14,
   "id": "9a8e6735",
   "metadata": {},
   "outputs": [],
   "source": [
    "reduced_words = mapped_words.reduceByKey(lambda x,y: x+y)"
   ]
  },
  {
   "cell_type": "code",
   "execution_count": 15,
   "id": "eaa45d46",
   "metadata": {},
   "outputs": [
    {
     "data": {
      "text/plain": [
       "[('technology', 1),\n",
       " ('is', 2),\n",
       " ('quite', 1),\n",
       " ('challenging', 1),\n",
       " ('trending', 1),\n",
       " ('big', 2),\n",
       " ('data', 2),\n",
       " ('a', 1)]"
      ]
     },
     "execution_count": 15,
     "metadata": {},
     "output_type": "execute_result"
    }
   ],
   "source": [
    "reduced_words.collect()"
   ]
  },
  {
   "cell_type": "code",
   "execution_count": 18,
   "id": "4ec5e65a",
   "metadata": {},
   "outputs": [],
   "source": [
    "sorted_words = reduced_words.sortBy(lambda x: x[1],False)"
   ]
  },
  {
   "cell_type": "code",
   "execution_count": 19,
   "id": "f13cbb99",
   "metadata": {},
   "outputs": [
    {
     "data": {
      "text/plain": [
       "[('is', 2),\n",
       " ('big', 2),\n",
       " ('data', 2),\n",
       " ('a', 1),\n",
       " ('technology', 1),\n",
       " ('quite', 1),\n",
       " ('challenging', 1),\n",
       " ('trending', 1)]"
      ]
     },
     "execution_count": 19,
     "metadata": {},
     "output_type": "execute_result"
    }
   ],
   "source": [
    "sorted_words.collect()"
   ]
  },
  {
   "cell_type": "code",
   "execution_count": null,
   "id": "1ec5ad46",
   "metadata": {},
   "outputs": [],
   "source": []
  }
 ],
 "metadata": {
  "kernelspec": {
   "display_name": "Pyspark 3",
   "language": "python",
   "name": "pyspark3"
  },
  "language_info": {
   "codemirror_mode": {
    "name": "ipython",
    "version": 3
   },
   "file_extension": ".py",
   "mimetype": "text/x-python",
   "name": "python",
   "nbconvert_exporter": "python",
   "pygments_lexer": "ipython3",
   "version": "3.6.12"
  }
 },
 "nbformat": 4,
 "nbformat_minor": 5
}
